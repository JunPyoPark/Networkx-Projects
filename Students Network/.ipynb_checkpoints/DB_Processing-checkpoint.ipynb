{
 "cells": [
  {
   "cell_type": "markdown",
   "metadata": {},
   "source": [
    "## DB_Preprocessing"
   ]
  },
  {
   "cell_type": "code",
   "execution_count": 112,
   "metadata": {
    "collapsed": true
   },
   "outputs": [],
   "source": [
    "import json"
   ]
  },
  {
   "cell_type": "code",
   "execution_count": 113,
   "metadata": {
    "collapsed": true
   },
   "outputs": [],
   "source": [
    "import pandas as pd"
   ]
  },
  {
   "cell_type": "code",
   "execution_count": 114,
   "metadata": {
    "collapsed": true
   },
   "outputs": [],
   "source": [
    "import re"
   ]
  },
  {
   "cell_type": "code",
   "execution_count": 115,
   "metadata": {
    "collapsed": true
   },
   "outputs": [],
   "source": [
    "def load_data():\n",
    "    db = {}\n",
    "    with open('data.json', mode='r', encoding='utf-8') as f:\n",
    "        data = json.load(f)\n",
    "    for da in data:\n",
    "        db[da['name_EN']]=da\n",
    "    return db"
   ]
  },
  {
   "cell_type": "code",
   "execution_count": 124,
   "metadata": {},
   "outputs": [
    {
     "data": {
      "text/plain": [
       "{'Id': 20121229,\n",
       " 'School': 'NS',\n",
       " 'mail': 'wnsvy1994@unist.ac.kr',\n",
       " 'name_EN': 'JUNPYO PARK',\n",
       " 'name_KOR': '박준표'}"
      ]
     },
     "execution_count": 124,
     "metadata": {},
     "output_type": "execute_result"
    }
   ],
   "source": [
    "node_data = load_data()\n",
    "# 데이터 확인\n",
    "node_data['JUNPYO PARK']"
   ]
  },
  {
   "cell_type": "code",
   "execution_count": 117,
   "metadata": {},
   "outputs": [
    {
     "data": {
      "text/plain": [
       "['DONGHUI KIM',\n",
       " 'JUNPYO PARK',\n",
       " 'KYEONGJUN MOON',\n",
       " 'JEONGTAEK LIM',\n",
       " 'GANGMIN CHOE',\n",
       " 'HYUNWOO SEO',\n",
       " 'JUHUI LEE',\n",
       " 'YUJEUNG KIM',\n",
       " 'HEEJIN YOON',\n",
       " 'JISU CHOI',\n",
       " 'YUNJEONG OH',\n",
       " 'JAEHYEON AN',\n",
       " 'SUKYEON HA',\n",
       " 'SEONGJAE HAN']"
      ]
     },
     "execution_count": 117,
     "metadata": {},
     "output_type": "execute_result"
    }
   ],
   "source": [
    "# node(=학생 이름) 의 리스트 추출\n",
    "node_list = list(node_data.keys())\n",
    "node_list"
   ]
  },
  {
   "cell_type": "markdown",
   "metadata": {},
   "source": [
    "## Add some attributes to each node"
   ]
  },
  {
   "cell_type": "code",
   "execution_count": 118,
   "metadata": {
    "collapsed": true
   },
   "outputs": [],
   "source": [
    "for i in node_list:\n",
    "    # add attribute 'first_name'\n",
    "    node_data[i]['first_name'] = node_data[i]['name_EN'].split()[-1]\n",
    "        \n",
    "    # 정규식을 통해 어떤 메일을 쓰는지 추출\n",
    "    p = re.compile(\"(.*?)@(.*?)[.](.*?)\")\n",
    "    m = p.search(node_data[i]['mail'])\n",
    "    web = m.group(2)\n",
    "    \n",
    "    # add attribute 'mail_web' : 어떤 메일사이트를 쓰는지를 나타내는 항목\n",
    "    node_data[i]['mail_web'] = web  \n",
    "    \n",
    "    # add attribute 'start_year' : 몇 학번인지\n",
    "    node_data[i]['start_year'] = int(node_data[i]['Id']/10000) % 100"
   ]
  },
  {
   "cell_type": "code",
   "execution_count": 119,
   "metadata": {},
   "outputs": [
    {
     "data": {
      "text/plain": [
       "{'Id': 20121229,\n",
       " 'School': 'NS',\n",
       " 'first_name': 'PARK',\n",
       " 'mail': 'wnsvy1994@unist.ac.kr',\n",
       " 'mail_web': 'unist',\n",
       " 'name_EN': 'JUNPYO PARK',\n",
       " 'name_KOR': '박준표',\n",
       " 'start_year': 12}"
      ]
     },
     "execution_count": 119,
     "metadata": {},
     "output_type": "execute_result"
    }
   ],
   "source": [
    "# attribute 들이 잘 들어갔는지 확인\n",
    "node_data['JUNPYO PARK']"
   ]
  },
  {
   "cell_type": "markdown",
   "metadata": {},
   "source": [
    "## Make Adjacency matrix as a pandas.DataFrame"
   ]
  },
  {
   "cell_type": "markdown",
   "metadata": {},
   "source": [
    "get_adj_matrix : DataFrame 구조로 adjacency matrix 를 만들고 csv 파일로 저장하는 함수"
   ]
  },
  {
   "cell_type": "code",
   "execution_count": 120,
   "metadata": {
    "collapsed": true
   },
   "outputs": [],
   "source": [
    "# INPUT : attribute, node_data\n",
    "# OUTPUT : adjacency matrix(type : DataFrame)\n",
    "def get_adj_matrix(attribute, node_data):\n",
    "    node_list = list(node_data.keys())\n",
    "    adj_mat = pd.DataFrame(index = node_list, columns = node_list)\n",
    "    \n",
    "    for i in node_list:\n",
    "        for j in node_list:\n",
    "            if (node_data[i][attribute] == node_data[j][attribute]):\n",
    "                adj_mat[i][j] = 1\n",
    "            else:\n",
    "                adj_mat[i][j] = 0\n",
    "            \n",
    "            # save as a csv file\n",
    "            adj_mat.to_csv('Attribute_'+ attribute + '.csv')\n",
    "    return adj_mat"
   ]
  },
  {
   "cell_type": "markdown",
   "metadata": {},
   "source": [
    "Select some attributes"
   ]
  },
  {
   "cell_type": "code",
   "execution_count": 121,
   "metadata": {
    "collapsed": true
   },
   "outputs": [],
   "source": [
    "attributes = ['School','first_name','mail_web','start_year']"
   ]
  },
  {
   "cell_type": "markdown",
   "metadata": {},
   "source": [
    "Make Csv files for each attribute"
   ]
  },
  {
   "cell_type": "code",
   "execution_count": 122,
   "metadata": {
    "collapsed": true
   },
   "outputs": [],
   "source": [
    "for attribute in attributes:\n",
    "        get_adj_matrix(attribute, node_data)"
   ]
  },
  {
   "cell_type": "markdown",
   "metadata": {},
   "source": [
    "데이터(adjacency matrix csv files) 가 확보되었으면 Gephi 를 통해 그를 시각화"
   ]
  }
 ],
 "metadata": {
  "kernelspec": {
   "display_name": "Python 3",
   "language": "python",
   "name": "python3"
  },
  "language_info": {
   "codemirror_mode": {
    "name": "ipython",
    "version": 3
   },
   "file_extension": ".py",
   "mimetype": "text/x-python",
   "name": "python",
   "nbconvert_exporter": "python",
   "pygments_lexer": "ipython3",
   "version": "3.6.1"
  }
 },
 "nbformat": 4,
 "nbformat_minor": 2
}
