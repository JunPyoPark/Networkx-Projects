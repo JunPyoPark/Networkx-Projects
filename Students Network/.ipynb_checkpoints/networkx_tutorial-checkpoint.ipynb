{
 "cells": [
  {
   "cell_type": "markdown",
   "metadata": {},
   "source": [
    "# netwokx tutorial"
   ]
  },
  {
   "cell_type": "code",
   "execution_count": 1,
   "metadata": {
    "collapsed": true
   },
   "outputs": [],
   "source": [
    "import networkx as nx"
   ]
  },
  {
   "cell_type": "markdown",
   "metadata": {},
   "source": [
    "version 2.1"
   ]
  },
  {
   "cell_type": "code",
   "execution_count": 93,
   "metadata": {},
   "outputs": [
    {
     "name": "stderr",
     "output_type": "stream",
     "text": [
      "Running NetworkX tests:.........................................F....................................................................................................................................................................................................FFF.F.FF.FF..FF....FF..F.............................................................................................................................................................................................................................................................F..................................................................................................................F.FF.FF.FFF..FFF..FFF.F.............................................F...........................................F........F...........F...................................FFF...F..................................................................................................................................................F.............................................................................................................................................................F...F.F...F.......................F...................................................................................................................................................................................................................................................................................................................................................................................................................................................................................................................................................................................................................................................................................................................................................................................................S..........SC:\\Users\\wnsvy\\Anaconda3\\lib\\site-packages\\networkx\\drawing\\nx_pylab.py:126: MatplotlibDeprecationWarning: pyplot.hold is deprecated.\n",
      "    Future behavior will be consistent with the long-time default:\n",
      "    plot commands add elements without first clearing the\n",
      "    Axes and/or Figure.\n",
      "  b = plt.ishold()\n",
      "C:\\Users\\wnsvy\\Anaconda3\\lib\\site-packages\\networkx\\drawing\\nx_pylab.py:522: MatplotlibDeprecationWarning: The is_string_like function was deprecated in version 2.1.\n",
      "  if not cb.is_string_like(edge_color) \\\n",
      "C:\\Users\\wnsvy\\Anaconda3\\lib\\site-packages\\networkx\\drawing\\nx_pylab.py:543: MatplotlibDeprecationWarning: The is_string_like function was deprecated in version 2.1.\n",
      "  if cb.is_string_like(edge_color) or len(edge_color) == 1:\n",
      "C:\\Users\\wnsvy\\Anaconda3\\lib\\site-packages\\networkx\\drawing\\nx_pylab.py:138: MatplotlibDeprecationWarning: pyplot.hold is deprecated.\n",
      "    Future behavior will be consistent with the long-time default:\n",
      "    plot commands add elements without first clearing the\n",
      "    Axes and/or Figure.\n",
      "  plt.hold(b)\n",
      "C:\\Users\\wnsvy\\Anaconda3\\lib\\site-packages\\matplotlib\\__init__.py:805: MatplotlibDeprecationWarning: axes.hold is deprecated. Please remove it from your matplotlibrc and/or style files.\n",
      "  mplDeprecation)\n",
      "C:\\Users\\wnsvy\\Anaconda3\\lib\\site-packages\\matplotlib\\rcsetup.py:155: MatplotlibDeprecationWarning: axes.hold is deprecated, will be removed in 3.0\n",
      "  mplDeprecation)\n",
      "........F.......................................................................F............................................FF..F..........................................................................................................S.............................................................F.F.......FFFF................FF............................\n",
      "======================================================================\n",
      "FAIL: test_kcomponents.test_example_1_detail_3_and_4\n",
      "----------------------------------------------------------------------\n",
      "Traceback (most recent call last):\n",
      "  File \"C:\\Users\\wnsvy\\Anaconda3\\lib\\site-packages\\nose\\case.py\", line 197, in runTest\n",
      "    self.test(*self.arg)\n",
      "  File \"C:\\Users\\wnsvy\\Anaconda3\\lib\\site-packages\\networkx\\algorithms\\approximation\\tests\\test_kcomponents.py\", line 176, in test_example_1_detail_3_and_4\n",
      "    assert_true(component in solution[k])\n",
      "AssertionError: False is not true\n",
      "\n",
      "======================================================================\n",
      "FAIL: Approximate current-flow betweenness centrality: K4\n",
      "----------------------------------------------------------------------\n",
      "Traceback (most recent call last):\n",
      "  File \"C:\\Users\\wnsvy\\Anaconda3\\lib\\site-packages\\nose\\case.py\", line 197, in runTest\n",
      "    self.test(*self.arg)\n",
      "  File \"C:\\Users\\wnsvy\\Anaconda3\\lib\\site-packages\\networkx\\algorithms\\centrality\\tests\\test_current_flow_betweenness_centrality.py\", line 124, in test_K4\n",
      "    assert_allclose(b[n],ba[n],atol=epsilon*len(G)**2)\n",
      "  File \"C:\\Users\\wnsvy\\Anaconda3\\lib\\site-packages\\numpy\\testing\\utils.py\", line 1395, in assert_allclose\n",
      "    verbose=verbose, header=header, equal_nan=equal_nan)\n",
      "  File \"C:\\Users\\wnsvy\\Anaconda3\\lib\\site-packages\\numpy\\testing\\utils.py\", line 778, in assert_array_compare\n",
      "    raise AssertionError(msg)\n",
      "AssertionError: \n",
      "Not equal to tolerance rtol=1e-07, atol=1.6\n",
      "\n",
      "(mismatch 100.0%)\n",
      " x: array(3.0)\n",
      " y: array(0.7489860297431056)\n",
      "\n",
      "======================================================================\n",
      "FAIL: Approximate current-flow betweenness centrality: K4 normalized\n",
      "----------------------------------------------------------------------\n",
      "Traceback (most recent call last):\n",
      "  File \"C:\\Users\\wnsvy\\Anaconda3\\lib\\site-packages\\nose\\case.py\", line 197, in runTest\n",
      "    self.test(*self.arg)\n",
      "  File \"C:\\Users\\wnsvy\\Anaconda3\\lib\\site-packages\\networkx\\algorithms\\centrality\\tests\\test_current_flow_betweenness_centrality.py\", line 115, in test_K4_normalized\n",
      "    assert_allclose(b[n],ba[n],atol=epsilon)\n",
      "  File \"C:\\Users\\wnsvy\\Anaconda3\\lib\\site-packages\\numpy\\testing\\utils.py\", line 1395, in assert_allclose\n",
      "    verbose=verbose, header=header, equal_nan=equal_nan)\n",
      "  File \"C:\\Users\\wnsvy\\Anaconda3\\lib\\site-packages\\numpy\\testing\\utils.py\", line 778, in assert_array_compare\n",
      "    raise AssertionError(msg)\n",
      "AssertionError: \n",
      "Not equal to tolerance rtol=1e-07, atol=0.1\n",
      "\n",
      "(mismatch 100.0%)\n",
      " x: array(1.0)\n",
      " y: array(0.26228030644433603)\n",
      "\n",
      "======================================================================\n",
      "FAIL: Approximate current-flow betweenness centrality: 2d grid\n",
      "----------------------------------------------------------------------\n",
      "Traceback (most recent call last):\n",
      "  File \"C:\\Users\\wnsvy\\Anaconda3\\lib\\site-packages\\nose\\case.py\", line 197, in runTest\n",
      "    self.test(*self.arg)\n",
      "  File \"C:\\Users\\wnsvy\\Anaconda3\\lib\\site-packages\\networkx\\algorithms\\centrality\\tests\\test_current_flow_betweenness_centrality.py\", line 143, in test_grid\n",
      "    assert_allclose(b[n],ba[n],atol=epsilon)\n",
      "  File \"C:\\Users\\wnsvy\\Anaconda3\\lib\\site-packages\\numpy\\testing\\utils.py\", line 1395, in assert_allclose\n",
      "    verbose=verbose, header=header, equal_nan=equal_nan)\n",
      "  File \"C:\\Users\\wnsvy\\Anaconda3\\lib\\site-packages\\numpy\\testing\\utils.py\", line 778, in assert_array_compare\n",
      "    raise AssertionError(msg)\n",
      "AssertionError: \n",
      "Not equal to tolerance rtol=1e-07, atol=0.1\n",
      "\n",
      "(mismatch 100.0%)\n",
      " x: array(-0.01904761904761905)\n",
      " y: array(0.2064337122012373)\n",
      "\n",
      "======================================================================\n",
      "FAIL: Approximate current-flow betweenness centrality: star\n",
      "----------------------------------------------------------------------\n",
      "Traceback (most recent call last):\n",
      "  File \"C:\\Users\\wnsvy\\Anaconda3\\lib\\site-packages\\nose\\case.py\", line 197, in runTest\n",
      "    self.test(*self.arg)\n",
      "  File \"C:\\Users\\wnsvy\\Anaconda3\\lib\\site-packages\\networkx\\algorithms\\centrality\\tests\\test_current_flow_betweenness_centrality.py\", line 134, in test_star\n",
      "    assert_allclose(b[n],ba[n],atol=epsilon)\n",
      "  File \"C:\\Users\\wnsvy\\Anaconda3\\lib\\site-packages\\numpy\\testing\\utils.py\", line 1395, in assert_allclose\n",
      "    verbose=verbose, header=header, equal_nan=equal_nan)\n",
      "  File \"C:\\Users\\wnsvy\\Anaconda3\\lib\\site-packages\\numpy\\testing\\utils.py\", line 778, in assert_array_compare\n",
      "    raise AssertionError(msg)\n",
      "AssertionError: \n",
      "Not equal to tolerance rtol=1e-07, atol=0.1\n",
      "\n",
      "(mismatch 100.0%)\n",
      " x: array(-0.3333333333333333)\n",
      " y: array(0.0)\n",
      "\n",
      "======================================================================\n",
      "FAIL: Edge flow betweenness centrality: K4\n",
      "----------------------------------------------------------------------\n"
     ]
    },
    {
     "name": "stderr",
     "output_type": "stream",
     "text": [
      "Traceback (most recent call last):\n",
      "  File \"C:\\Users\\wnsvy\\Anaconda3\\lib\\site-packages\\nose\\case.py\", line 197, in runTest\n",
      "    self.test(*self.arg)\n",
      "  File \"C:\\Users\\wnsvy\\Anaconda3\\lib\\site-packages\\networkx\\algorithms\\centrality\\tests\\test_current_flow_betweenness_centrality.py\", line 182, in test_K4\n",
      "    assert_almost_equal(v1,v2)\n",
      "AssertionError: 0.25 != 0.0 within 7 places\n",
      "\n",
      "======================================================================\n",
      "FAIL: Edge flow betweenness centrality: K4\n",
      "----------------------------------------------------------------------\n",
      "Traceback (most recent call last):\n",
      "  File \"C:\\Users\\wnsvy\\Anaconda3\\lib\\site-packages\\nose\\case.py\", line 197, in runTest\n",
      "    self.test(*self.arg)\n",
      "  File \"C:\\Users\\wnsvy\\Anaconda3\\lib\\site-packages\\networkx\\algorithms\\centrality\\tests\\test_current_flow_betweenness_centrality.py\", line 191, in test_K4_normalized\n",
      "    assert_almost_equal(v1,v2)\n",
      "AssertionError: 0.75 != 0.0 within 7 places\n",
      "\n",
      "======================================================================\n",
      "FAIL: Betweenness centrality: K4\n",
      "----------------------------------------------------------------------\n",
      "Traceback (most recent call last):\n",
      "  File \"C:\\Users\\wnsvy\\Anaconda3\\lib\\site-packages\\nose\\case.py\", line 197, in runTest\n",
      "    self.test(*self.arg)\n",
      "  File \"C:\\Users\\wnsvy\\Anaconda3\\lib\\site-packages\\networkx\\algorithms\\centrality\\tests\\test_current_flow_betweenness_centrality.py\", line 52, in test_K4\n",
      "    assert_almost_equal(b[n],b_answer[n])\n",
      "AssertionError: 3.0 != 0.75 within 7 places\n",
      "\n",
      "======================================================================\n",
      "FAIL: Betweenness centrality: K4\n",
      "----------------------------------------------------------------------\n",
      "Traceback (most recent call last):\n",
      "  File \"C:\\Users\\wnsvy\\Anaconda3\\lib\\site-packages\\nose\\case.py\", line 197, in runTest\n",
      "    self.test(*self.arg)\n",
      "  File \"C:\\Users\\wnsvy\\Anaconda3\\lib\\site-packages\\networkx\\algorithms\\centrality\\tests\\test_current_flow_betweenness_centrality.py\", line 30, in test_K4_normalized\n",
      "    assert_almost_equal(b[n],b_answer[n])\n",
      "AssertionError: 1.0 != 0.25 within 7 places\n",
      "\n",
      "======================================================================\n",
      "FAIL: Betweenness centrality: alternate solvers\n",
      "----------------------------------------------------------------------\n",
      "Traceback (most recent call last):\n",
      "  File \"C:\\Users\\wnsvy\\Anaconda3\\lib\\site-packages\\nose\\case.py\", line 197, in runTest\n",
      "    self.test(*self.arg)\n",
      "  File \"C:\\Users\\wnsvy\\Anaconda3\\lib\\site-packages\\networkx\\algorithms\\centrality\\tests\\test_current_flow_betweenness_centrality.py\", line 91, in test_solers\n",
      "    assert_almost_equal(b[n],b_answer[n])\n",
      "AssertionError: 3.0 != 0.75 within 7 places\n",
      "\n",
      "======================================================================\n",
      "FAIL: Betweenness centrality: star\n",
      "----------------------------------------------------------------------\n",
      "Traceback (most recent call last):\n",
      "  File \"C:\\Users\\wnsvy\\Anaconda3\\lib\\site-packages\\nose\\case.py\", line 197, in runTest\n",
      "    self.test(*self.arg)\n",
      "  File \"C:\\Users\\wnsvy\\Anaconda3\\lib\\site-packages\\networkx\\algorithms\\centrality\\tests\\test_current_flow_betweenness_centrality.py\", line 79, in test_star\n",
      "    assert_almost_equal(b[n],b_answer[n])\n",
      "AssertionError: -0.3333333333333333 != 0.0 within 7 places\n",
      "\n",
      "======================================================================\n",
      "FAIL: Betweenness centrality: K4\n",
      "----------------------------------------------------------------------\n",
      "Traceback (most recent call last):\n",
      "  File \"C:\\Users\\wnsvy\\Anaconda3\\lib\\site-packages\\nose\\case.py\", line 197, in runTest\n",
      "    self.test(*self.arg)\n",
      "  File \"C:\\Users\\wnsvy\\Anaconda3\\lib\\site-packages\\networkx\\algorithms\\centrality\\tests\\test_current_flow_betweenness_centrality_subset.py\", line 46, in test_K4\n",
      "    assert_almost_equal(b[n],b_answer[n])\n",
      "AssertionError: 0.25 != 1.0 within 7 places\n",
      "\n",
      "======================================================================\n",
      "FAIL: Betweenness centrality: K4\n",
      "----------------------------------------------------------------------\n",
      "Traceback (most recent call last):\n",
      "  File \"C:\\Users\\wnsvy\\Anaconda3\\lib\\site-packages\\nose\\case.py\", line 197, in runTest\n",
      "    self.test(*self.arg)\n",
      "  File \"C:\\Users\\wnsvy\\Anaconda3\\lib\\site-packages\\networkx\\algorithms\\centrality\\tests\\test_current_flow_betweenness_centrality_subset.py\", line 34, in test_K4_normalized\n",
      "    assert_almost_equal(b[n],b_answer[n])\n",
      "AssertionError: 0.25 != 1.0 within 7 places\n",
      "\n",
      "======================================================================\n",
      "FAIL: Betweenness centrality: star\n",
      "----------------------------------------------------------------------\n",
      "Traceback (most recent call last):\n",
      "  File \"C:\\Users\\wnsvy\\Anaconda3\\lib\\site-packages\\nose\\case.py\", line 197, in runTest\n",
      "    self.test(*self.arg)\n",
      "  File \"C:\\Users\\wnsvy\\Anaconda3\\lib\\site-packages\\networkx\\algorithms\\centrality\\tests\\test_current_flow_betweenness_centrality_subset.py\", line 106, in test_star\n",
      "    assert_almost_equal(b[n],b_answer[n])\n",
      "AssertionError: 0.5 != 1.0 within 7 places\n",
      "\n",
      "======================================================================\n",
      "FAIL: test_kcomponents.test_torrents_and_ferraro_detail_3_and_4\n",
      "----------------------------------------------------------------------\n",
      "Traceback (most recent call last):\n",
      "  File \"C:\\Users\\wnsvy\\Anaconda3\\lib\\site-packages\\nose\\case.py\", line 197, in runTest\n",
      "    self.test(*self.arg)\n",
      "  File \"C:\\Users\\wnsvy\\Anaconda3\\lib\\site-packages\\networkx\\algorithms\\connectivity\\tests\\test_kcomponents.py\", line 156, in test_torrents_and_ferraro_detail_3_and_4\n",
      "    assert_true(component in solution[k])\n",
      "AssertionError: False is not true\n",
      "\n",
      "======================================================================\n",
      "FAIL: test_hits.TestHITS.test_hits\n",
      "----------------------------------------------------------------------\n",
      "Traceback (most recent call last):\n",
      "  File \"C:\\Users\\wnsvy\\Anaconda3\\lib\\site-packages\\nose\\case.py\", line 197, in runTest\n",
      "    self.test(*self.arg)\n",
      "  File \"C:\\Users\\wnsvy\\Anaconda3\\lib\\site-packages\\networkx\\algorithms\\link_analysis\\tests\\test_hits.py\", line 36, in test_hits\n",
      "    assert_almost_equal(h[n],G.h[n],places=4)\n",
      "AssertionError: 0.21132486525597988 != 0.0 within 4 places\n",
      "\n",
      "======================================================================\n",
      "FAIL: test_hits.TestHITS.test_hits_numpy\n",
      "----------------------------------------------------------------------\n",
      "Traceback (most recent call last):\n",
      "  File \"C:\\Users\\wnsvy\\Anaconda3\\lib\\site-packages\\nose\\case.py\", line 197, in runTest\n",
      "    self.test(*self.arg)\n",
      "  File \"C:\\Users\\wnsvy\\Anaconda3\\lib\\site-packages\\networkx\\algorithms\\link_analysis\\tests\\test_hits.py\", line 56, in test_hits_numpy\n",
      "    assert_almost_equal(h[n],G.h[n],places=4)\n",
      "AssertionError: 0.21132486540518708 != 0.0 within 4 places\n",
      "\n",
      "======================================================================\n",
      "FAIL: test_hits.TestHITS.test_hits_scipy\n",
      "----------------------------------------------------------------------\n",
      "Traceback (most recent call last):\n",
      "  File \"C:\\Users\\wnsvy\\Anaconda3\\lib\\site-packages\\nose\\case.py\", line 197, in runTest\n",
      "    self.test(*self.arg)\n",
      "  File \"C:\\Users\\wnsvy\\Anaconda3\\lib\\site-packages\\networkx\\algorithms\\link_analysis\\tests\\test_hits.py\", line 70, in test_hits_scipy\n",
      "    assert_almost_equal(h[n],G.h[n],places=4)\n",
      "AssertionError: 0.21132486461742692 != 0.0 within 4 places\n",
      "\n",
      "======================================================================\n",
      "FAIL: test_pagerank.TestPageRank.test_dangling_numpy_pagerank\n",
      "----------------------------------------------------------------------\n",
      "Traceback (most recent call last):\n",
      "  File \"C:\\Users\\wnsvy\\Anaconda3\\lib\\site-packages\\nose\\case.py\", line 197, in runTest\n",
      "    self.test(*self.arg)\n",
      "  File \"C:\\Users\\wnsvy\\Anaconda3\\lib\\site-packages\\networkx\\algorithms\\link_analysis\\tests\\test_pagerank.py\", line 119, in test_dangling_numpy_pagerank\n",
      "    assert_almost_equal(pr[n], self.G.dangling_pagerank[n], places=4)\n",
      "AssertionError: 0.15919783224938833 != 0.2683668 within 4 places\n",
      "\n",
      "======================================================================\n",
      "FAIL: test_pagerank.TestPageRank.test_dangling_pagerank\n",
      "----------------------------------------------------------------------\n",
      "Traceback (most recent call last):\n",
      "  File \"C:\\Users\\wnsvy\\Anaconda3\\lib\\site-packages\\nose\\case.py\", line 197, in runTest\n",
      "    self.test(*self.arg)\n",
      "  File \"C:\\Users\\wnsvy\\Anaconda3\\lib\\site-packages\\networkx\\algorithms\\link_analysis\\tests\\test_pagerank.py\", line 114, in test_dangling_pagerank\n",
      "    assert_almost_equal(pr[n], self.G.dangling_pagerank[n], places=4)\n",
      "AssertionError: 0.15919589098416329 != 0.2683668 within 4 places\n",
      "\n",
      "======================================================================\n",
      "FAIL: test_pagerank.TestPageRank.test_google_matrix\n",
      "----------------------------------------------------------------------\n",
      "Traceback (most recent call last):\n",
      "  File \"C:\\Users\\wnsvy\\Anaconda3\\lib\\site-packages\\nose\\case.py\", line 197, in runTest\n",
      "    self.test(*self.arg)\n",
      "  File \"C:\\Users\\wnsvy\\Anaconda3\\lib\\site-packages\\networkx\\algorithms\\link_analysis\\tests\\test_pagerank.py\", line 72, in test_google_matrix\n",
      "    assert_almost_equal(a, b)\n",
      "AssertionError: (0.20599833187742739+0j) != 0.37508082 within 7 places\n",
      "\n",
      "======================================================================\n",
      "FAIL: test_pagerank.TestPageRank.test_numpy_pagerank\n",
      "----------------------------------------------------------------------\n",
      "Traceback (most recent call last):\n",
      "  File \"C:\\Users\\wnsvy\\Anaconda3\\lib\\site-packages\\nose\\case.py\", line 197, in runTest\n",
      "    self.test(*self.arg)\n",
      "  File \"C:\\Users\\wnsvy\\Anaconda3\\lib\\site-packages\\networkx\\algorithms\\link_analysis\\tests\\test_pagerank.py\", line 62, in test_numpy_pagerank\n",
      "    assert_almost_equal(p[n], G.pagerank[n], places=4)\n",
      "AssertionError: 0.2059983318774274 != 0.37508082 within 4 places\n",
      "\n",
      "======================================================================\n",
      "FAIL: test_pagerank.TestPageRank.test_pagerank\n",
      "----------------------------------------------------------------------\n",
      "Traceback (most recent call last):\n",
      "  File \"C:\\Users\\wnsvy\\Anaconda3\\lib\\site-packages\\nose\\case.py\", line 197, in runTest\n",
      "    self.test(*self.arg)\n",
      "  File \"C:\\Users\\wnsvy\\Anaconda3\\lib\\site-packages\\networkx\\algorithms\\link_analysis\\tests\\test_pagerank.py\", line 48, in test_pagerank\n",
      "    assert_almost_equal(p[n], G.pagerank[n], places=4)\n",
      "AssertionError: 0.20599832787380884 != 0.37508082 within 4 places\n",
      "\n",
      "======================================================================\n",
      "FAIL: test_pagerank.TestPageRankScipy.test_dangling_numpy_pagerank\n"
     ]
    },
    {
     "name": "stderr",
     "output_type": "stream",
     "text": [
      "----------------------------------------------------------------------\n",
      "Traceback (most recent call last):\n",
      "  File \"C:\\Users\\wnsvy\\Anaconda3\\lib\\site-packages\\nose\\case.py\", line 197, in runTest\n",
      "    self.test(*self.arg)\n",
      "  File \"C:\\Users\\wnsvy\\Anaconda3\\lib\\site-packages\\networkx\\algorithms\\link_analysis\\tests\\test_pagerank.py\", line 119, in test_dangling_numpy_pagerank\n",
      "    assert_almost_equal(pr[n], self.G.dangling_pagerank[n], places=4)\n",
      "AssertionError: 0.15919783224938833 != 0.2683668 within 4 places\n",
      "\n",
      "======================================================================\n",
      "FAIL: test_pagerank.TestPageRankScipy.test_dangling_pagerank\n",
      "----------------------------------------------------------------------\n",
      "Traceback (most recent call last):\n",
      "  File \"C:\\Users\\wnsvy\\Anaconda3\\lib\\site-packages\\nose\\case.py\", line 197, in runTest\n",
      "    self.test(*self.arg)\n",
      "  File \"C:\\Users\\wnsvy\\Anaconda3\\lib\\site-packages\\networkx\\algorithms\\link_analysis\\tests\\test_pagerank.py\", line 114, in test_dangling_pagerank\n",
      "    assert_almost_equal(pr[n], self.G.dangling_pagerank[n], places=4)\n",
      "AssertionError: 0.15919589098416329 != 0.2683668 within 4 places\n",
      "\n",
      "======================================================================\n",
      "FAIL: test_pagerank.TestPageRankScipy.test_dangling_scipy_pagerank\n",
      "----------------------------------------------------------------------\n",
      "Traceback (most recent call last):\n",
      "  File \"C:\\Users\\wnsvy\\Anaconda3\\lib\\site-packages\\nose\\case.py\", line 197, in runTest\n",
      "    self.test(*self.arg)\n",
      "  File \"C:\\Users\\wnsvy\\Anaconda3\\lib\\site-packages\\networkx\\algorithms\\link_analysis\\tests\\test_pagerank.py\", line 156, in test_dangling_scipy_pagerank\n",
      "    assert_almost_equal(pr[n], self.G.dangling_pagerank[n], places=4)\n",
      "AssertionError: 0.15919589098416329 != 0.2683668 within 4 places\n",
      "\n",
      "======================================================================\n",
      "FAIL: test_pagerank.TestPageRankScipy.test_google_matrix\n",
      "----------------------------------------------------------------------\n",
      "Traceback (most recent call last):\n",
      "  File \"C:\\Users\\wnsvy\\Anaconda3\\lib\\site-packages\\nose\\case.py\", line 197, in runTest\n",
      "    self.test(*self.arg)\n",
      "  File \"C:\\Users\\wnsvy\\Anaconda3\\lib\\site-packages\\networkx\\algorithms\\link_analysis\\tests\\test_pagerank.py\", line 72, in test_google_matrix\n",
      "    assert_almost_equal(a, b)\n",
      "AssertionError: (0.20599833187742739+0j) != 0.37508082 within 7 places\n",
      "\n",
      "======================================================================\n",
      "FAIL: test_pagerank.TestPageRankScipy.test_numpy_pagerank\n",
      "----------------------------------------------------------------------\n",
      "Traceback (most recent call last):\n",
      "  File \"C:\\Users\\wnsvy\\Anaconda3\\lib\\site-packages\\nose\\case.py\", line 197, in runTest\n",
      "    self.test(*self.arg)\n",
      "  File \"C:\\Users\\wnsvy\\Anaconda3\\lib\\site-packages\\networkx\\algorithms\\link_analysis\\tests\\test_pagerank.py\", line 62, in test_numpy_pagerank\n",
      "    assert_almost_equal(p[n], G.pagerank[n], places=4)\n",
      "AssertionError: 0.2059983318774274 != 0.37508082 within 4 places\n",
      "\n",
      "======================================================================\n",
      "FAIL: test_pagerank.TestPageRankScipy.test_pagerank\n",
      "----------------------------------------------------------------------\n",
      "Traceback (most recent call last):\n",
      "  File \"C:\\Users\\wnsvy\\Anaconda3\\lib\\site-packages\\nose\\case.py\", line 197, in runTest\n",
      "    self.test(*self.arg)\n",
      "  File \"C:\\Users\\wnsvy\\Anaconda3\\lib\\site-packages\\networkx\\algorithms\\link_analysis\\tests\\test_pagerank.py\", line 48, in test_pagerank\n",
      "    assert_almost_equal(p[n], G.pagerank[n], places=4)\n",
      "AssertionError: 0.20599832787380884 != 0.37508082 within 4 places\n",
      "\n",
      "======================================================================\n",
      "FAIL: test_pagerank.TestPageRankScipy.test_scipy_pagerank\n",
      "----------------------------------------------------------------------\n",
      "Traceback (most recent call last):\n",
      "  File \"C:\\Users\\wnsvy\\Anaconda3\\lib\\site-packages\\nose\\case.py\", line 197, in runTest\n",
      "    self.test(*self.arg)\n",
      "  File \"C:\\Users\\wnsvy\\Anaconda3\\lib\\site-packages\\networkx\\algorithms\\link_analysis\\tests\\test_pagerank.py\", line 145, in test_scipy_pagerank\n",
      "    assert_almost_equal(p[n], G.pagerank[n], places=4)\n",
      "AssertionError: 0.20599832787380884 != 0.37508082 within 4 places\n",
      "\n",
      "======================================================================\n",
      "FAIL: test_product.test_graph_power\n",
      "----------------------------------------------------------------------\n",
      "Traceback (most recent call last):\n",
      "  File \"C:\\Users\\wnsvy\\Anaconda3\\lib\\site-packages\\nose\\case.py\", line 197, in runTest\n",
      "    self.test(*self.arg)\n",
      "  File \"C:\\Users\\wnsvy\\Anaconda3\\lib\\site-packages\\networkx\\algorithms\\operators\\tests\\test_product.py\", line 371, in test_graph_power\n",
      "    (8, 9)])\n",
      "AssertionError: Lists differ: [(0, 1), (0, 6), (0, 2), (0, 5), (0, 7), (1, 2), (1, 6[141 chars], 8)] != [(0, 1), (0, 2), (0, 5), (0, 6), (0, 7), (1, 9), (1, 2[141 chars], 9)]\n",
      "\n",
      "First differing element 1:\n",
      "(0, 6)\n",
      "(0, 2)\n",
      "\n",
      "  [(0, 1),\n",
      "-  (0, 6),\n",
      "   (0, 2),\n",
      "   (0, 5),\n",
      "+  (0, 6),\n",
      "   (0, 7),\n",
      "+  (1, 9),\n",
      "   (1, 2),\n",
      "+  (1, 3),\n",
      "   (1, 6),\n",
      "-  (1, 3),\n",
      "?   ^\n",
      "\n",
      "+  (2, 3),\n",
      "?   ^\n",
      "\n",
      "-  (1, 9),\n",
      "-  (6, 4),\n",
      "?   ^\n",
      "\n",
      "+  (2, 4),\n",
      "?   ^\n",
      "\n",
      "+  (2, 8),\n",
      "+  (2, 9),\n",
      "+  (3, 4),\n",
      "-  (6, 5),\n",
      "?   ^\n",
      "\n",
      "+  (3, 5),\n",
      "?   ^\n",
      "\n",
      "+  (3, 9),\n",
      "+  (4, 5),\n",
      "+  (4, 6),\n",
      "+  (5, 6),\n",
      "+  (5, 7),\n",
      "   (6, 7),\n",
      "   (6, 8),\n",
      "-  (2, 3),\n",
      "-  (2, 9),\n",
      "-  (2, 4),\n",
      "-  (2, 8),\n",
      "-  (5, 3),\n",
      "-  (5, 4),\n",
      "-  (5, 7),\n",
      "   (7, 8),\n",
      "   (7, 9),\n",
      "-  (3, 4),\n",
      "-  (3, 9),\n",
      "?   ^    ^\n",
      "\n",
      "+  (8, 9)]\n",
      "?   ^    ^\n",
      "\n",
      "-  (9, 8)]\n",
      "\n",
      "======================================================================\n",
      "FAIL: test_unweighted.TestUnweightedPath.test_predecessor\n",
      "----------------------------------------------------------------------\n",
      "Traceback (most recent call last):\n",
      "  File \"C:\\Users\\wnsvy\\Anaconda3\\lib\\site-packages\\nose\\case.py\", line 197, in runTest\n",
      "    self.test(*self.arg)\n",
      "  File \"C:\\Users\\wnsvy\\Anaconda3\\lib\\site-packages\\networkx\\algorithms\\shortest_paths\\tests\\test_unweighted.py\", line 76, in test_predecessor\n",
      "    ((1, 0), [(0, 0)]), ((1, 1), [(0, 1), (1, 0)])])\n",
      "AssertionError: Lists differ: [((0,[14 chars] 1), [(0, 0)]), ((1, 0), [(0, 0)]), ((1, 1), [(1, 0), (0, 1)])] != [((0,[14 chars] 1), [(0, 0)]), ((1, 0), [(0, 0)]), ((1, 1), [(0, 1), (1, 0)])]\n",
      "\n",
      "First differing element 3:\n",
      "((1, 1), [(1, 0), (0, 1)])\n",
      "((1, 1), [(0, 1), (1, 0)])\n",
      "\n",
      "  [((0, 0), []),\n",
      "   ((0, 1), [(0, 0)]),\n",
      "   ((1, 0), [(0, 0)]),\n",
      "-  ((1, 1), [(1, 0), (0, 1)])]\n",
      "+  ((1, 1), [(0, 1), (1, 0)])]\n",
      "\n",
      "======================================================================\n",
      "FAIL: test_weighted.TestBellmanFordAndGoldbergRadizk.test_others\n",
      "----------------------------------------------------------------------\n",
      "Traceback (most recent call last):\n",
      "  File \"C:\\Users\\wnsvy\\Anaconda3\\lib\\site-packages\\nose\\case.py\", line 197, in runTest\n",
      "    self.test(*self.arg)\n",
      "  File \"C:\\Users\\wnsvy\\Anaconda3\\lib\\site-packages\\networkx\\algorithms\\shortest_paths\\tests\\test_weighted.py\", line 297, in test_others\n",
      "    ((1, 0), (0, 0)), ((1, 1), (0, 1))])\n",
      "AssertionError: Lists differ: [((0, 0), None), ((0, 1), (0, 0)), ((1, 0), (0, 0)), ((1, 1), (1, 0))] != [((0, 0), None), ((0, 1), (0, 0)), ((1, 0), (0, 0)), ((1, 1), (0, 1))]\n",
      "\n",
      "First differing element 3:\n",
      "((1, 1), (1, 0))\n",
      "((1, 1), (0, 1))\n",
      "\n",
      "- [((0, 0), None), ((0, 1), (0, 0)), ((1, 0), (0, 0)), ((1, 1), (1, 0))]\n",
      "?                                                                 ---\n",
      "\n",
      "+ [((0, 0), None), ((0, 1), (0, 0)), ((1, 0), (0, 0)), ((1, 1), (0, 1))]\n",
      "?                                                                +++\n",
      "\n",
      "\n",
      "======================================================================\n",
      "FAIL: test_weighted.TestWeightedPath.test_dijkstra_predecessor\n",
      "----------------------------------------------------------------------\n",
      "Traceback (most recent call last):\n",
      "  File \"C:\\Users\\wnsvy\\Anaconda3\\lib\\site-packages\\nose\\case.py\", line 197, in runTest\n",
      "    self.test(*self.arg)\n",
      "  File \"C:\\Users\\wnsvy\\Anaconda3\\lib\\site-packages\\networkx\\algorithms\\shortest_paths\\tests\\test_weighted.py\", line 149, in test_dijkstra_predecessor\n",
      "    ((1, 0), [(0, 0)]), ((1, 1), [(0, 1), (1, 0)])])\n",
      "AssertionError: Lists differ: [((0,[14 chars] 1), [(0, 0)]), ((1, 0), [(0, 0)]), ((1, 1), [(1, 0), (0, 1)])] != [((0,[14 chars] 1), [(0, 0)]), ((1, 0), [(0, 0)]), ((1, 1), [(0, 1), (1, 0)])]\n",
      "\n",
      "First differing element 3:\n",
      "((1, 1), [(1, 0), (0, 1)])\n",
      "((1, 1), [(0, 1), (1, 0)])\n",
      "\n",
      "  [((0, 0), []),\n",
      "   ((0, 1), [(0, 0)]),\n",
      "   ((1, 0), [(0, 0)]),\n",
      "-  ((1, 1), [(1, 0), (0, 1)])]\n",
      "+  ((1, 1), [(0, 1), (1, 0)])]\n",
      "\n",
      "======================================================================\n"
     ]
    },
    {
     "name": "stderr",
     "output_type": "stream",
     "text": [
      "FAIL: test_branchings.test_greedy_max1\n",
      "----------------------------------------------------------------------\n",
      "Traceback (most recent call last):\n",
      "  File \"C:\\Users\\wnsvy\\Anaconda3\\lib\\site-packages\\nose\\case.py\", line 197, in runTest\n",
      "    self.test(*self.arg)\n",
      "  File \"C:\\Users\\wnsvy\\Anaconda3\\lib\\site-packages\\networkx\\algorithms\\tree\\tests\\test_branchings.py\", line 167, in test_greedy_max1\n",
      "    assert_equal_branchings(B, B_)\n",
      "  File \"C:\\Users\\wnsvy\\Anaconda3\\lib\\site-packages\\networkx\\algorithms\\tree\\tests\\test_branchings.py\", line 121, in assert_equal_branchings\n",
      "    assert_equal(a[:2], b[:2])\n",
      "AssertionError: Tuples differ: (2, 3) != (6, 2)\n",
      "\n",
      "First differing element 0:\n",
      "2\n",
      "6\n",
      "\n",
      "- (2, 3)\n",
      "+ (6, 2)\n",
      "-------------------- >> begin captured stdout << ---------------------\n",
      "[(3, 0, 5), (1, 5, 13), (7, 6, 15), (2, 1, 17), (3, 4, 17), (8, 7, 18), (2, 3, 21), (6, 2, 21)]\n",
      "[(3, 0, 5), (1, 5, 13), (7, 6, 15), (2, 1, 17), (3, 4, 17), (8, 7, 18), (6, 2, 21), (2, 3, 21)]\n",
      "\n",
      "--------------------- >> end captured stdout << ----------------------\n",
      "\n",
      "======================================================================\n",
      "FAIL: test_branchings.test_greedy_max2\n",
      "----------------------------------------------------------------------\n",
      "Traceback (most recent call last):\n",
      "  File \"C:\\Users\\wnsvy\\Anaconda3\\lib\\site-packages\\nose\\case.py\", line 197, in runTest\n",
      "    self.test(*self.arg)\n",
      "  File \"C:\\Users\\wnsvy\\Anaconda3\\lib\\site-packages\\networkx\\algorithms\\tree\\tests\\test_branchings.py\", line 182, in test_greedy_max2\n",
      "    assert_equal_branchings(B, B_)\n",
      "  File \"C:\\Users\\wnsvy\\Anaconda3\\lib\\site-packages\\networkx\\algorithms\\tree\\tests\\test_branchings.py\", line 121, in assert_equal_branchings\n",
      "    assert_equal(a[:2], b[:2])\n",
      "AssertionError: Tuples differ: (2, 3) != (6, 2)\n",
      "\n",
      "First differing element 0:\n",
      "2\n",
      "6\n",
      "\n",
      "- (2, 3)\n",
      "+ (6, 2)\n",
      "-------------------- >> begin captured stdout << ---------------------\n",
      "[(1, 0, 6), (1, 5, 13), (7, 6, 15), (2, 1, 17), (3, 4, 17), (8, 7, 18), (2, 3, 21), (6, 2, 21)]\n",
      "[(1, 0, 6), (1, 5, 13), (7, 6, 15), (2, 1, 17), (3, 4, 17), (8, 7, 18), (6, 2, 21), (2, 3, 21)]\n",
      "\n",
      "--------------------- >> end captured stdout << ----------------------\n",
      "\n",
      "======================================================================\n",
      "FAIL: test_branchings.test_greedy_max3\n",
      "----------------------------------------------------------------------\n",
      "Traceback (most recent call last):\n",
      "  File \"C:\\Users\\wnsvy\\Anaconda3\\lib\\site-packages\\nose\\case.py\", line 197, in runTest\n",
      "    self.test(*self.arg)\n",
      "  File \"C:\\Users\\wnsvy\\Anaconda3\\lib\\site-packages\\networkx\\algorithms\\tree\\tests\\test_branchings.py\", line 196, in test_greedy_max3\n",
      "    assert_equal_branchings(B, B_, default=1)\n",
      "  File \"C:\\Users\\wnsvy\\Anaconda3\\lib\\site-packages\\networkx\\algorithms\\tree\\tests\\test_branchings.py\", line 121, in assert_equal_branchings\n",
      "    assert_equal(a[:2], b[:2])\n",
      "AssertionError: Tuples differ: (3, 4) != (3, 0)\n",
      "\n",
      "First differing element 1:\n",
      "4\n",
      "0\n",
      "\n",
      "- (3, 4)\n",
      "?     ^\n",
      "\n",
      "+ (3, 0)\n",
      "?     ^\n",
      "\n",
      "-------------------- >> begin captured stdout << ---------------------\n",
      "[(2, 1, 1), (3, 4, 1), (3, 0, 1), (5, 8, 1), (6, 2, 1), (7, 6, 1), (7, 3, 1), (8, 7, 1)]\n",
      "[(2, 1, 1), (3, 0, 1), (3, 4, 1), (5, 8, 1), (8, 7, 1), (6, 2, 1), (7, 3, 1), (7, 6, 1)]\n",
      "\n",
      "--------------------- >> end captured stdout << ----------------------\n",
      "\n",
      "======================================================================\n",
      "FAIL: test_branchings.test_edmonds2_maxbranch\n",
      "----------------------------------------------------------------------\n",
      "Traceback (most recent call last):\n",
      "  File \"C:\\Users\\wnsvy\\Anaconda3\\lib\\site-packages\\nose\\case.py\", line 197, in runTest\n",
      "    self.test(*self.arg)\n",
      "  File \"C:\\Users\\wnsvy\\Anaconda3\\lib\\site-packages\\networkx\\algorithms\\tree\\tests\\test_branchings.py\", line 225, in test_edmonds2_maxbranch\n",
      "    assert_equal_branchings(x, x_)\n",
      "  File \"C:\\Users\\wnsvy\\Anaconda3\\lib\\site-packages\\networkx\\algorithms\\tree\\tests\\test_branchings.py\", line 121, in assert_equal_branchings\n",
      "    assert_equal(a[:2], b[:2])\n",
      "AssertionError: Tuples differ: (2, 3) != (6, 2)\n",
      "\n",
      "First differing element 0:\n",
      "2\n",
      "6\n",
      "\n",
      "- (2, 3)\n",
      "+ (6, 2)\n",
      "-------------------- >> begin captured stdout << ---------------------\n",
      "[(5, 6, 4), (6, 8, 5), (2, 1, 7), (3, 4, 7), (8, 7, 8), (2, 3, 11), (6, 2, 11)]\n",
      "[(5, 6, 4), (6, 8, 5), (2, 1, 7), (3, 4, 7), (8, 7, 8), (6, 2, 11), (2, 3, 11)]\n",
      "\n",
      "--------------------- >> end captured stdout << ----------------------\n",
      "\n",
      "======================================================================\n",
      "FAIL: test_dominance.TestDominanceFrontiers.test_irreducible2\n",
      "----------------------------------------------------------------------\n",
      "Traceback (most recent call last):\n",
      "  File \"C:\\Users\\wnsvy\\Anaconda3\\lib\\site-packages\\nose\\case.py\", line 197, in runTest\n",
      "    self.test(*self.arg)\n",
      "  File \"C:\\Users\\wnsvy\\Anaconda3\\lib\\site-packages\\networkx\\algorithms\\tests\\test_dominance.py\", line 145, in test_irreducible2\n",
      "    {1: [2], 2: [1, 3], 3: [2], 4: [2, 3], 5: [1], 6: []})\n",
      "AssertionError: {6: [], 5: [1], 4: [2, 3], 2: [3, 1], 3: [2], 1: [2]} != {1: [2], 2: [1, 3], 3: [2], 4: [2, 3], 5: [1], 6: []}\n",
      "- {1: [2], 2: [3, 1], 3: [2], 4: [2, 3], 5: [1], 6: []}\n",
      "?               ---\n",
      "\n",
      "+ {1: [2], 2: [1, 3], 3: [2], 4: [2, 3], 5: [1], 6: []}\n",
      "?              +++\n",
      "\n",
      "\n",
      "======================================================================\n",
      "FAIL: test_mst.TestMST.test_mst\n",
      "----------------------------------------------------------------------\n",
      "Traceback (most recent call last):\n",
      "  File \"C:\\Users\\wnsvy\\Anaconda3\\lib\\site-packages\\nose\\case.py\", line 197, in runTest\n",
      "    self.test(*self.arg)\n",
      "  File \"C:\\Users\\wnsvy\\Anaconda3\\lib\\site-packages\\networkx\\algorithms\\tests\\test_mst.py\", line 36, in test_mst\n",
      "    assert_equal(T.edges(data=True),self.tree_edgelist)\n",
      "AssertionError: Lists differ: [(0, 3, {'weight': 5}), (0, 1, {'weight': 7}),[87 chars] 9})] != [(0, 1, {'weight': 7}), (0, 3, {'weight': 5}),[87 chars] 9})]\n",
      "\n",
      "First differing element 0:\n",
      "(0, 3, {'weight': 5})\n",
      "(0, 1, {'weight': 7})\n",
      "\n",
      "- [(0, 3, {'weight': 5}),\n",
      "-  (0, 1, {'weight': 7}),\n",
      "? ^\n",
      "\n",
      "+ [(0, 1, {'weight': 7}),\n",
      "? ^\n",
      "\n",
      "+  (0, 3, {'weight': 5}),\n",
      "+  (1, 4, {'weight': 7}),\n",
      "+  (2, 4, {'weight': 5}),\n",
      "   (3, 5, {'weight': 6}),\n",
      "-  (2, 4, {'weight': 5}),\n",
      "-  (4, 1, {'weight': 7}),\n",
      "   (4, 6, {'weight': 9})]\n",
      "\n",
      "======================================================================\n",
      "FAIL: test_mst.TestMST.test_mst_edges_specify_weight\n",
      "----------------------------------------------------------------------\n",
      "Traceback (most recent call last):\n",
      "  File \"C:\\Users\\wnsvy\\Anaconda3\\lib\\site-packages\\nose\\case.py\", line 197, in runTest\n",
      "    self.test(*self.arg)\n",
      "  File \"C:\\Users\\wnsvy\\Anaconda3\\lib\\site-packages\\networkx\\algorithms\\tests\\test_mst.py\", line 80, in test_mst_edges_specify_weight\n",
      "    assert_equal(sorted(T.edges()),[(1,3),(2,3)])\n",
      "AssertionError: Lists differ: [(1, 3), (3, 2)] != [(1, 3), (2, 3)]\n",
      "\n",
      "First differing element 1:\n",
      "(3, 2)\n",
      "(2, 3)\n",
      "\n",
      "- [(1, 3), (3, 2)]\n",
      "?            ---\n",
      "\n",
      "+ [(1, 3), (2, 3)]\n",
      "?           +++\n",
      "\n",
      "\n",
      "======================================================================\n",
      "FAIL: test_mst.TestMST.test_prim_mst\n",
      "----------------------------------------------------------------------\n",
      "Traceback (most recent call last):\n",
      "  File \"C:\\Users\\wnsvy\\Anaconda3\\lib\\site-packages\\nose\\case.py\", line 197, in runTest\n",
      "    self.test(*self.arg)\n",
      "  File \"C:\\Users\\wnsvy\\Anaconda3\\lib\\site-packages\\networkx\\algorithms\\tests\\test_mst.py\", line 85, in test_prim_mst\n",
      "    assert_equal(T.edges(data=True),self.tree_edgelist)\n",
      "AssertionError: Lists differ: [(0, 3, {'weight': 5}), (0, 1, {'weight': 7}),[87 chars] 9})] != [(0, 1, {'weight': 7}), (0, 3, {'weight': 5}),[87 chars] 9})]\n",
      "\n",
      "First differing element 0:\n",
      "(0, 3, {'weight': 5})\n",
      "(0, 1, {'weight': 7})\n",
      "\n",
      "- [(0, 3, {'weight': 5}),\n",
      "-  (0, 1, {'weight': 7}),\n",
      "? ^\n",
      "\n",
      "+ [(0, 1, {'weight': 7}),\n",
      "? ^\n",
      "\n",
      "+  (0, 3, {'weight': 5}),\n",
      "+  (1, 4, {'weight': 7}),\n",
      "+  (2, 4, {'weight': 5}),\n",
      "   (3, 5, {'weight': 6}),\n",
      "-  (1, 4, {'weight': 7}),\n",
      "-  (4, 2, {'weight': 5}),\n",
      "   (4, 6, {'weight': 9})]\n",
      "\n",
      "======================================================================\n",
      "FAIL: test_mst.TestMST.test_prim_mst_edges_specify_weight\n",
      "----------------------------------------------------------------------\n",
      "Traceback (most recent call last):\n",
      "  File \"C:\\Users\\wnsvy\\Anaconda3\\lib\\site-packages\\nose\\case.py\", line 197, in runTest\n",
      "    self.test(*self.arg)\n",
      "  File \"C:\\Users\\wnsvy\\Anaconda3\\lib\\site-packages\\networkx\\algorithms\\tests\\test_mst.py\", line 131, in test_prim_mst_edges_specify_weight\n",
      "    assert_equal(sorted(T.edges()),[(1,3),(2,3)])\n",
      "AssertionError: Lists differ: [(1, 3), (3, 2)] != [(1, 3), (2, 3)]\n",
      "\n",
      "First differing element 1:\n",
      "(3, 2)\n",
      "(2, 3)\n",
      "\n",
      "- [(1, 3), (3, 2)]\n",
      "?            ---\n",
      "\n",
      "+ [(1, 3), (2, 3)]\n",
      "?           +++\n",
      "\n",
      "\n",
      "======================================================================\n",
      "FAIL: test_simple_paths.test_bidirectional_shortest_path_restricted\n",
      "----------------------------------------------------------------------\n",
      "Traceback (most recent call last):\n",
      "  File \"C:\\Users\\wnsvy\\Anaconda3\\lib\\site-packages\\nose\\case.py\", line 197, in runTest\n",
      "    self.test(*self.arg)\n",
      "  File \"C:\\Users\\wnsvy\\Anaconda3\\lib\\site-packages\\networkx\\algorithms\\tests\\test_simple_paths.py\", line 178, in test_bidirectional_shortest_path_restricted\n",
      "    assert_equal(path, [1, 5, 6, 10, 11, 12])\n",
      "AssertionError: Lists differ: [1, 5, 9, 10, 11, 12] != [1, 5, 6, 10, 11, 12]\n",
      "\n",
      "First differing element 2:\n",
      "9\n",
      "6\n",
      "\n",
      "- [1, 5, 9, 10, 11, 12]\n",
      "?        ^\n",
      "\n",
      "+ [1, 5, 6, 10, 11, 12]\n",
      "?        ^\n",
      "\n",
      "\n",
      "======================================================================\n",
      "FAIL: test_classic.TestGeneratorClassic.test_circulant_graph\n",
      "----------------------------------------------------------------------\n",
      "Traceback (most recent call last):\n",
      "  File \"C:\\Users\\wnsvy\\Anaconda3\\lib\\site-packages\\nose\\case.py\", line 197, in runTest\n",
      "    self.test(*self.arg)\n",
      "  File \"C:\\Users\\wnsvy\\Anaconda3\\lib\\site-packages\\networkx\\generators\\tests\\test_classic.py\", line 156, in test_circulant_graph\n",
      "    assert_equal(Ci6_1.edges(), C6.edges())\n",
      "AssertionError: Lists differ: [(0, 5), (0, 1), (1, 2), (2, 3), (3, 4), (4, 5)] != [(0, 1), (0, 5), (1, 2), (2, 3), (3, 4), (4, 5)]\n",
      "\n",
      "First differing element 0:\n",
      "(0, 5)\n",
      "(0, 1)\n",
      "\n",
      "- [(0, 5), (0, 1), (1, 2), (2, 3), (3, 4), (4, 5)]\n",
      "?          --------\n",
      "\n",
      "+ [(0, 1), (0, 5), (1, 2), (2, 3), (3, 4), (4, 5)]\n",
      "?      ++++++++\n",
      "\n",
      "\n",
      "======================================================================\n",
      "FAIL: test_nonisomorphic_trees.TestGeneratorNonIsomorphicTrees.test_nonisomorphic_trees\n",
      "----------------------------------------------------------------------\n",
      "Traceback (most recent call last):\n",
      "  File \"C:\\Users\\wnsvy\\Anaconda3\\lib\\site-packages\\nose\\case.py\", line 197, in runTest\n",
      "    self.test(*self.arg)\n",
      "  File \"C:\\Users\\wnsvy\\Anaconda3\\lib\\site-packages\\networkx\\generators\\tests\\test_nonisomorphic_trees.py\", line 47, in test_nonisomorphic_trees\n",
      "    assert_equal(sorted(f(3)[0].edges()), [(0, 1), (0, 2)])\n",
      "AssertionError: Lists differ: [(0, 2), (1, 0)] != [(0, 1), (0, 2)]\n",
      "\n",
      "First differing element 0:\n",
      "(0, 2)\n",
      "(0, 1)\n",
      "\n",
      "- [(0, 2), (1, 0)]\n",
      "+ [(0, 1), (0, 2)]\n",
      "\n",
      "======================================================================\n",
      "FAIL: Conversion to incidence matrix\n",
      "----------------------------------------------------------------------\n",
      "Traceback (most recent call last):\n",
      "  File \"C:\\Users\\wnsvy\\Anaconda3\\lib\\site-packages\\nose\\case.py\", line 197, in runTest\n",
      "    self.test(*self.arg)\n",
      "  File \"C:\\Users\\wnsvy\\Anaconda3\\lib\\site-packages\\networkx\\linalg\\tests\\test_graphmatrix.py\", line 57, in test_incidence_matrix\n",
      "    assert_equal(nx.incidence_matrix(self.G,oriented=True).todense(),self.OI)\n",
      "  File \"C:\\Users\\wnsvy\\Anaconda3\\lib\\site-packages\\numpy\\testing\\utils.py\", line 343, in assert_equal\n",
      "    return assert_array_equal(actual, desired, err_msg, verbose)\n",
      "  File \"C:\\Users\\wnsvy\\Anaconda3\\lib\\site-packages\\numpy\\testing\\utils.py\", line 854, in assert_array_equal\n",
      "    verbose=verbose, header='Arrays are not equal')\n",
      "  File \"C:\\Users\\wnsvy\\Anaconda3\\lib\\site-packages\\numpy\\testing\\utils.py\", line 778, in assert_array_compare\n",
      "    raise AssertionError(msg)\n",
      "AssertionError: \n",
      "Arrays are not equal\n",
      "\n",
      "(mismatch 100.0%)\n",
      " x: [repr failed for <matrix>: The truth value of an array with more than one element is ambiguous. Use a.any() or a.all()]\n",
      " y: array([[-1, -1, -1,  0],\n",
      "       [ 1,  0,  0, -1],\n",
      "       [ 0,  1,  0,  1],...\n",
      "\n",
      "======================================================================\n",
      "FAIL: Directed Laplacian\n",
      "----------------------------------------------------------------------\n",
      "Traceback (most recent call last):\n",
      "  File \"C:\\Users\\wnsvy\\Anaconda3\\lib\\site-packages\\nose\\case.py\", line 197, in runTest\n",
      "    self.test(*self.arg)\n",
      "  File \"C:\\Users\\wnsvy\\Anaconda3\\lib\\site-packages\\networkx\\linalg\\tests\\test_laplacian.py\", line 90, in test_directed_laplacian\n",
      "    assert_almost_equal(nx.directed_laplacian_matrix(G, alpha=0.9), GL, decimal=3)\n",
      "  File \"C:\\Users\\wnsvy\\Anaconda3\\lib\\site-packages\\numpy\\testing\\utils.py\", line 563, in assert_almost_equal\n",
      "    return assert_array_almost_equal(actual, desired, decimal, err_msg)\n",
      "  File \"C:\\Users\\wnsvy\\Anaconda3\\lib\\site-packages\\numpy\\testing\\utils.py\", line 962, in assert_array_almost_equal\n",
      "    precision=decimal)\n",
      "  File \"C:\\Users\\wnsvy\\Anaconda3\\lib\\site-packages\\numpy\\testing\\utils.py\", line 778, in assert_array_compare\n",
      "    raise AssertionError(msg)\n",
      "AssertionError: \n",
      "Arrays are not almost equal to 3 decimals\n",
      "\n",
      "(mismatch 100.0%)\n",
      " x: [repr failed for <matrix>: The truth value of an array with more than one element is ambiguous. Use a.any() or a.all()]\n",
      " y: array([[ 0.983, -0.294, -0.388, -0.029, -0.023, -0.026],\n",
      "       [-0.294,  0.833, -0.234, -0.054, -0.059, -0.055],\n",
      "       [-0.388, -0.234,  0.983, -0.028, -0.09 , -0.025],...\n",
      "\n",
      "======================================================================\n",
      "FAIL: Directed Modularity matrix\n",
      "----------------------------------------------------------------------\n",
      "Traceback (most recent call last):\n",
      "  File \"C:\\Users\\wnsvy\\Anaconda3\\lib\\site-packages\\nose\\case.py\", line 197, in runTest\n",
      "    self.test(*self.arg)\n",
      "  File \"C:\\Users\\wnsvy\\Anaconda3\\lib\\site-packages\\networkx\\linalg\\tests\\test_modularity.py\", line 56, in test_directed_modularity\n",
      "    assert_equal(nx.directed_modularity_matrix(self.DG), B)\n",
      "  File \"C:\\Users\\wnsvy\\Anaconda3\\lib\\site-packages\\numpy\\testing\\utils.py\", line 343, in assert_equal\n",
      "    return assert_array_equal(actual, desired, err_msg, verbose)\n",
      "  File \"C:\\Users\\wnsvy\\Anaconda3\\lib\\site-packages\\numpy\\testing\\utils.py\", line 854, in assert_array_equal\n",
      "    verbose=verbose, header='Arrays are not equal')\n",
      "  File \"C:\\Users\\wnsvy\\Anaconda3\\lib\\site-packages\\numpy\\testing\\utils.py\", line 778, in assert_array_compare\n",
      "    raise AssertionError(msg)\n",
      "AssertionError: \n",
      "Arrays are not equal\n",
      "\n",
      "(mismatch 100.0%)\n",
      " x: [repr failed for <matrix>: The truth value of an array with more than one element is ambiguous. Use a.any() or a.all()]\n",
      " y: [repr failed for <matrix>: The truth value of an array with more than one element is ambiguous. Use a.any() or a.all()]\n",
      "\n",
      "======================================================================\n",
      "FAIL: networkx.tests.test_convert.TestConvert.test_graph\n",
      "----------------------------------------------------------------------\n",
      "Traceback (most recent call last):\n",
      "  File \"C:\\Users\\wnsvy\\Anaconda3\\lib\\site-packages\\nose\\case.py\", line 197, in runTest\n",
      "    self.test(*self.arg)\n",
      "  File \"C:\\Users\\wnsvy\\Anaconda3\\lib\\site-packages\\networkx\\tests\\test_convert.py\", line 93, in test_graph\n",
      "    assert_equal(enone, sorted(GG.edges(data=True)))\n",
      "AssertionError: Lists differ: [(0, [28 chars]}), (9, 8, {}), (2, 3, {}), (3, 4, {}), (4, 5,[36 chars] {})] != [(0, [28 chars]}), (2, 3, {}), (3, 4, {}), (4, 5, {}), (5, 6,[36 chars] {})]\n",
      "\n",
      "First differing element 3:\n",
      "(9, 8, {})\n",
      "(2, 3, {})\n",
      "\n",
      "  [(0, 1, {}),\n",
      "   (0, 9, {}),\n",
      "   (1, 2, {}),\n",
      "-  (9, 8, {}),\n",
      "   (2, 3, {}),\n",
      "   (3, 4, {}),\n",
      "   (4, 5, {}),\n",
      "   (5, 6, {}),\n",
      "   (6, 7, {}),\n",
      "-  (7, 8, {})]\n",
      "?            ^\n",
      "\n",
      "+  (7, 8, {}),\n",
      "?            ^\n",
      "\n",
      "+  (9, 8, {})]\n",
      "\n",
      "======================================================================\n",
      "FAIL: networkx.tests.test_convert.TestConvert.test_with_multiedges_self_loops\n",
      "----------------------------------------------------------------------\n",
      "Traceback (most recent call last):\n",
      "  File \"C:\\Users\\wnsvy\\Anaconda3\\lib\\site-packages\\nose\\case.py\", line 197, in runTest\n",
      "    self.test(*self.arg)\n",
      "  File \"C:\\Users\\wnsvy\\Anaconda3\\lib\\site-packages\\networkx\\tests\\test_convert.py\", line 136, in test_with_multiedges_self_loops\n",
      "    assert_equal(enone, sorted(GG.edges(data=True)))\n",
      "AssertionError: Lists differ: [(0, 1, {}), (0, 9, {}), (0, 0, {}), (1, 2, {}[81 chars] {})] != [(0, 0, {}), (0, 1, {}), (0, 9, {}), (1, 2, {}[81 chars] {})]\n",
      "\n",
      "First differing element 0:\n",
      "(0, 1, {})\n",
      "(0, 0, {})\n",
      "\n",
      "- [(0, 1, {}),\n",
      "?      ^\n",
      "\n",
      "+ [(0, 0, {}),\n",
      "?      ^\n",
      "\n",
      "+  (0, 1, {}),\n",
      "   (0, 9, {}),\n",
      "-  (0, 0, {}),\n",
      "   (1, 2, {}),\n",
      "-  (9, 8, {}),\n",
      "   (2, 3, {}),\n",
      "   (3, 4, {}),\n",
      "   (4, 5, {}),\n",
      "   (5, 6, {}),\n",
      "   (6, 7, {}),\n",
      "-  (7, 8, {})]\n",
      "?            ^\n",
      "\n",
      "+  (7, 8, {}),\n",
      "?            ^\n",
      "\n",
      "+  (9, 8, {})]\n",
      "\n",
      "======================================================================\n",
      "FAIL: Conversion from weighted digraph to array to weighted digraph.\n",
      "----------------------------------------------------------------------\n"
     ]
    },
    {
     "name": "stderr",
     "output_type": "stream",
     "text": [
      "Traceback (most recent call last):\n",
      "  File \"C:\\Users\\wnsvy\\Anaconda3\\lib\\site-packages\\nose\\case.py\", line 197, in runTest\n",
      "    self.test(*self.arg)\n",
      "  File \"C:\\Users\\wnsvy\\Anaconda3\\lib\\site-packages\\networkx\\tests\\test_convert_numpy.py\", line 97, in test_identity_weighted_digraph_array\n",
      "    self.identity_conversion(self.G4, A, nx.DiGraph())\n",
      "  File \"C:\\Users\\wnsvy\\Anaconda3\\lib\\site-packages\\networkx\\tests\\test_convert_numpy.py\", line 44, in identity_conversion\n",
      "    self.assert_equal(G, GG)\n",
      "  File \"C:\\Users\\wnsvy\\Anaconda3\\lib\\site-packages\\networkx\\tests\\test_convert_numpy.py\", line 40, in assert_equal\n",
      "    assert_true( sorted(G1.edges())==sorted(G2.edges()) )\n",
      "AssertionError: False is not true\n",
      "\n",
      "======================================================================\n",
      "FAIL: Conversion from weighted digraph to matrix to weighted digraph.\n",
      "----------------------------------------------------------------------\n",
      "Traceback (most recent call last):\n",
      "  File \"C:\\Users\\wnsvy\\Anaconda3\\lib\\site-packages\\nose\\case.py\", line 197, in runTest\n",
      "    self.test(*self.arg)\n",
      "  File \"C:\\Users\\wnsvy\\Anaconda3\\lib\\site-packages\\networkx\\tests\\test_convert_numpy.py\", line 91, in test_identity_weighted_digraph_matrix\n",
      "    self.identity_conversion(self.G4, A, nx.DiGraph())\n",
      "  File \"C:\\Users\\wnsvy\\Anaconda3\\lib\\site-packages\\networkx\\tests\\test_convert_numpy.py\", line 44, in identity_conversion\n",
      "    self.assert_equal(G, GG)\n",
      "  File \"C:\\Users\\wnsvy\\Anaconda3\\lib\\site-packages\\networkx\\tests\\test_convert_numpy.py\", line 40, in assert_equal\n",
      "    assert_true( sorted(G1.edges())==sorted(G2.edges()) )\n",
      "AssertionError: False is not true\n",
      "\n",
      "======================================================================\n",
      "FAIL: Conversion from weighted graph to array to weighted graph.\n",
      "----------------------------------------------------------------------\n",
      "Traceback (most recent call last):\n",
      "  File \"C:\\Users\\wnsvy\\Anaconda3\\lib\\site-packages\\nose\\case.py\", line 197, in runTest\n",
      "    self.test(*self.arg)\n",
      "  File \"C:\\Users\\wnsvy\\Anaconda3\\lib\\site-packages\\networkx\\tests\\test_convert_numpy.py\", line 86, in test_identity_weighted_graph_array\n",
      "    self.identity_conversion(self.G3, A, nx.Graph())\n",
      "  File \"C:\\Users\\wnsvy\\Anaconda3\\lib\\site-packages\\networkx\\tests\\test_convert_numpy.py\", line 44, in identity_conversion\n",
      "    self.assert_equal(G, GG)\n",
      "  File \"C:\\Users\\wnsvy\\Anaconda3\\lib\\site-packages\\networkx\\tests\\test_convert_numpy.py\", line 40, in assert_equal\n",
      "    assert_true( sorted(G1.edges())==sorted(G2.edges()) )\n",
      "AssertionError: False is not true\n",
      "\n",
      "======================================================================\n",
      "FAIL: Conversion from weighted graph to matrix to weighted graph.\n",
      "----------------------------------------------------------------------\n",
      "Traceback (most recent call last):\n",
      "  File \"C:\\Users\\wnsvy\\Anaconda3\\lib\\site-packages\\nose\\case.py\", line 197, in runTest\n",
      "    self.test(*self.arg)\n",
      "  File \"C:\\Users\\wnsvy\\Anaconda3\\lib\\site-packages\\networkx\\tests\\test_convert_numpy.py\", line 80, in test_identity_weighted_graph_matrix\n",
      "    self.identity_conversion(self.G3, A, nx.Graph())\n",
      "  File \"C:\\Users\\wnsvy\\Anaconda3\\lib\\site-packages\\networkx\\tests\\test_convert_numpy.py\", line 44, in identity_conversion\n",
      "    self.assert_equal(G, GG)\n",
      "  File \"C:\\Users\\wnsvy\\Anaconda3\\lib\\site-packages\\networkx\\tests\\test_convert_numpy.py\", line 40, in assert_equal\n",
      "    assert_true( sorted(G1.edges())==sorted(G2.edges()) )\n",
      "AssertionError: False is not true\n",
      "\n",
      "======================================================================\n",
      "FAIL: Conversion from weighted digraph to sparse matrix to weighted digraph.\n",
      "----------------------------------------------------------------------\n",
      "Traceback (most recent call last):\n",
      "  File \"C:\\Users\\wnsvy\\Anaconda3\\lib\\site-packages\\nose\\case.py\", line 197, in runTest\n",
      "    self.test(*self.arg)\n",
      "  File \"C:\\Users\\wnsvy\\Anaconda3\\lib\\site-packages\\networkx\\tests\\test_convert_scipy.py\", line 96, in test_identity_weighted_digraph_matrix\n",
      "    self.identity_conversion(self.G4, A, nx.DiGraph())\n",
      "  File \"C:\\Users\\wnsvy\\Anaconda3\\lib\\site-packages\\networkx\\tests\\test_convert_scipy.py\", line 45, in identity_conversion\n",
      "    self.assert_equal(G, GG)\n",
      "  File \"C:\\Users\\wnsvy\\Anaconda3\\lib\\site-packages\\networkx\\tests\\test_convert_scipy.py\", line 41, in assert_equal\n",
      "    assert_true( sorted(G1.edges())==sorted(G2.edges()) )\n",
      "AssertionError: False is not true\n",
      "\n",
      "======================================================================\n",
      "FAIL: Conversion from weighted graph to sparse matrix to weighted graph.\n",
      "----------------------------------------------------------------------\n",
      "Traceback (most recent call last):\n",
      "  File \"C:\\Users\\wnsvy\\Anaconda3\\lib\\site-packages\\nose\\case.py\", line 197, in runTest\n",
      "    self.test(*self.arg)\n",
      "  File \"C:\\Users\\wnsvy\\Anaconda3\\lib\\site-packages\\networkx\\tests\\test_convert_scipy.py\", line 91, in test_identity_weighted_graph_matrix\n",
      "    self.identity_conversion(self.G3, A, nx.Graph())\n",
      "  File \"C:\\Users\\wnsvy\\Anaconda3\\lib\\site-packages\\networkx\\tests\\test_convert_scipy.py\", line 45, in identity_conversion\n",
      "    self.assert_equal(G, GG)\n",
      "  File \"C:\\Users\\wnsvy\\Anaconda3\\lib\\site-packages\\networkx\\tests\\test_convert_scipy.py\", line 41, in assert_equal\n",
      "    assert_true( sorted(G1.edges())==sorted(G2.edges()) )\n",
      "AssertionError: False is not true\n",
      "\n",
      "----------------------------------------------------------------------\n",
      "Ran 2283 tests in 41.921s\n",
      "\n",
      "FAILED (SKIP=3, failures=57)\n"
     ]
    }
   ],
   "source": [
    "nx.test()"
   ]
  },
  {
   "cell_type": "code",
   "execution_count": 2,
   "metadata": {
    "collapsed": true
   },
   "outputs": [],
   "source": [
    "G = nx.Graph()"
   ]
  },
  {
   "cell_type": "code",
   "execution_count": 3,
   "metadata": {
    "collapsed": true
   },
   "outputs": [],
   "source": [
    "G.add_node(1)"
   ]
  },
  {
   "cell_type": "code",
   "execution_count": 4,
   "metadata": {
    "collapsed": true
   },
   "outputs": [],
   "source": [
    "G.add_nodes_from([2,3])"
   ]
  },
  {
   "cell_type": "markdown",
   "metadata": {},
   "source": [
    "or add any iterable contatiner of nodes."
   ]
  },
  {
   "cell_type": "code",
   "execution_count": 5,
   "metadata": {
    "collapsed": true
   },
   "outputs": [],
   "source": [
    "H = nx.path_graph(10)\n",
    "G.add_nodes_from(H)"
   ]
  },
  {
   "cell_type": "code",
   "execution_count": 6,
   "metadata": {
    "collapsed": true
   },
   "outputs": [],
   "source": [
    "G.add_node(H)"
   ]
  },
  {
   "cell_type": "code",
   "execution_count": 7,
   "metadata": {
    "collapsed": true
   },
   "outputs": [],
   "source": [
    "G.add_edge(1,2)"
   ]
  },
  {
   "cell_type": "code",
   "execution_count": 11,
   "metadata": {},
   "outputs": [],
   "source": [
    "e = (2,3)\n",
    "# e = (2,3, {'weight' : 3.14})\n",
    "G.add_edge(*e)\n",
    "# unpack edge tuple*"
   ]
  },
  {
   "cell_type": "code",
   "execution_count": 12,
   "metadata": {},
   "outputs": [
    {
     "data": {
      "text/plain": [
       "<networkx.classes.graph.Graph at 0x1a899ba30b8>"
      ]
     },
     "execution_count": 12,
     "metadata": {},
     "output_type": "execute_result"
    }
   ],
   "source": [
    "G.clear()\n",
    "G"
   ]
  },
  {
   "cell_type": "code",
   "execution_count": 13,
   "metadata": {
    "collapsed": true
   },
   "outputs": [],
   "source": [
    "G.add_edges_from([(1,2),(1,3)])\n",
    "G.add_node(1)\n",
    "G.add_edge(1,2)\n",
    "G.add_node(\"spam\")\n",
    "G.add_nodes_from(\"spam\") # add 4 nodes : 's','p','a','m'\n",
    "G.add_edge(3,'m')"
   ]
  },
  {
   "cell_type": "code",
   "execution_count": 14,
   "metadata": {},
   "outputs": [
    {
     "data": {
      "text/plain": [
       "8"
      ]
     },
     "execution_count": 14,
     "metadata": {},
     "output_type": "execute_result"
    }
   ],
   "source": [
    "G.number_of_nodes()"
   ]
  },
  {
   "cell_type": "code",
   "execution_count": 15,
   "metadata": {},
   "outputs": [
    {
     "data": {
      "text/plain": [
       "3"
      ]
     },
     "execution_count": 15,
     "metadata": {},
     "output_type": "execute_result"
    }
   ],
   "source": [
    "G.number_of_edges()"
   ]
  },
  {
   "cell_type": "code",
   "execution_count": 17,
   "metadata": {},
   "outputs": [
    {
     "data": {
      "text/plain": [
       "[1, 2, 3, 'spam', 's', 'p', 'a', 'm']"
      ]
     },
     "execution_count": 17,
     "metadata": {},
     "output_type": "execute_result"
    }
   ],
   "source": [
    "list(G.nodes)"
   ]
  },
  {
   "cell_type": "code",
   "execution_count": 20,
   "metadata": {},
   "outputs": [
    {
     "data": {
      "text/plain": [
       "[(1, 2), (1, 3), (3, 'm')]"
      ]
     },
     "execution_count": 20,
     "metadata": {},
     "output_type": "execute_result"
    }
   ],
   "source": [
    "list(G.edges)"
   ]
  },
  {
   "cell_type": "code",
   "execution_count": 21,
   "metadata": {},
   "outputs": [
    {
     "data": {
      "text/plain": [
       "2"
      ]
     },
     "execution_count": 21,
     "metadata": {},
     "output_type": "execute_result"
    }
   ],
   "source": [
    "G.degree[1] # the number of edges incident to 1"
   ]
  },
  {
   "cell_type": "code",
   "execution_count": 22,
   "metadata": {},
   "outputs": [
    {
     "data": {
      "text/plain": [
       "AdjacencyView({1: {2: {}, 3: {}}, 2: {1: {}}, 3: {1: {}, 'm': {}}, 'spam': {}, 's': {}, 'p': {}, 'a': {}, 'm': {3: {}}})"
      ]
     },
     "execution_count": 22,
     "metadata": {},
     "output_type": "execute_result"
    }
   ],
   "source": [
    "G.adj # 각 노드별 연결된 node dict 형태로 출력"
   ]
  },
  {
   "cell_type": "code",
   "execution_count": 24,
   "metadata": {},
   "outputs": [
    {
     "data": {
      "text/plain": [
       "[2, 3]"
      ]
     },
     "execution_count": 24,
     "metadata": {},
     "output_type": "execute_result"
    }
   ],
   "source": [
    "list(G.adj[1])"
   ]
  },
  {
   "cell_type": "code",
   "execution_count": 26,
   "metadata": {},
   "outputs": [
    {
     "data": {
      "text/plain": [
       "[2, 3]"
      ]
     },
     "execution_count": 26,
     "metadata": {},
     "output_type": "execute_result"
    }
   ],
   "source": [
    "list(G.neighbors(1)) # 노드 1 과 연결된 node들 출력"
   ]
  },
  {
   "cell_type": "code",
   "execution_count": 27,
   "metadata": {},
   "outputs": [
    {
     "data": {
      "text/plain": [
       "EdgeDataView([(2, 1), ('m', 3)])"
      ]
     },
     "execution_count": 27,
     "metadata": {},
     "output_type": "execute_result"
    }
   ],
   "source": [
    "G.edges([2,'m'])"
   ]
  },
  {
   "cell_type": "code",
   "execution_count": 31,
   "metadata": {},
   "outputs": [
    {
     "data": {
      "text/plain": [
       "{2: 1, 3: 2}"
      ]
     },
     "execution_count": 31,
     "metadata": {},
     "output_type": "execute_result"
    }
   ],
   "source": [
    "dict(G.degree([2,3]))"
   ]
  },
  {
   "cell_type": "code",
   "execution_count": 33,
   "metadata": {},
   "outputs": [
    {
     "data": {
      "text/plain": [
       "[1, 3, 'spam']"
      ]
     },
     "execution_count": 33,
     "metadata": {},
     "output_type": "execute_result"
    }
   ],
   "source": [
    "G.remove_node(2)\n",
    "G.remove_nodes_from(\"spam\")\n",
    "list(G.nodes)"
   ]
  },
  {
   "cell_type": "code",
   "execution_count": 35,
   "metadata": {},
   "outputs": [
    {
     "ename": "NetworkXError",
     "evalue": "The edge 1-3 is not in the graph",
     "output_type": "error",
     "traceback": [
      "\u001b[1;31m---------------------------------------------------------------------------\u001b[0m",
      "\u001b[1;31mKeyError\u001b[0m                                  Traceback (most recent call last)",
      "\u001b[1;32m~\\Anaconda3\\lib\\site-packages\\networkx\\classes\\graph.py\u001b[0m in \u001b[0;36mremove_edge\u001b[1;34m(self, u, v)\u001b[0m\n\u001b[0;32m   1006\u001b[0m         \u001b[1;32mtry\u001b[0m\u001b[1;33m:\u001b[0m\u001b[1;33m\u001b[0m\u001b[0m\n\u001b[1;32m-> 1007\u001b[1;33m             \u001b[1;32mdel\u001b[0m \u001b[0mself\u001b[0m\u001b[1;33m.\u001b[0m\u001b[0m_adj\u001b[0m\u001b[1;33m[\u001b[0m\u001b[0mu\u001b[0m\u001b[1;33m]\u001b[0m\u001b[1;33m[\u001b[0m\u001b[0mv\u001b[0m\u001b[1;33m]\u001b[0m\u001b[1;33m\u001b[0m\u001b[0m\n\u001b[0m\u001b[0;32m   1008\u001b[0m             \u001b[1;32mif\u001b[0m \u001b[0mu\u001b[0m \u001b[1;33m!=\u001b[0m \u001b[0mv\u001b[0m\u001b[1;33m:\u001b[0m  \u001b[1;31m# self-loop needs only one entry removed\u001b[0m\u001b[1;33m\u001b[0m\u001b[0m\n",
      "\u001b[1;31mKeyError\u001b[0m: 3",
      "\nDuring handling of the above exception, another exception occurred:\n",
      "\u001b[1;31mNetworkXError\u001b[0m                             Traceback (most recent call last)",
      "\u001b[1;32m<ipython-input-35-1e707a453720>\u001b[0m in \u001b[0;36m<module>\u001b[1;34m()\u001b[0m\n\u001b[1;32m----> 1\u001b[1;33m \u001b[0mG\u001b[0m\u001b[1;33m.\u001b[0m\u001b[0mremove_edge\u001b[0m\u001b[1;33m(\u001b[0m\u001b[1;36m1\u001b[0m\u001b[1;33m,\u001b[0m\u001b[1;36m3\u001b[0m\u001b[1;33m)\u001b[0m\u001b[1;33m\u001b[0m\u001b[0m\n\u001b[0m\u001b[0;32m      2\u001b[0m \u001b[0mG\u001b[0m\u001b[1;33m.\u001b[0m\u001b[0medges\u001b[0m\u001b[1;33m\u001b[0m\u001b[0m\n",
      "\u001b[1;32m~\\Anaconda3\\lib\\site-packages\\networkx\\classes\\graph.py\u001b[0m in \u001b[0;36mremove_edge\u001b[1;34m(self, u, v)\u001b[0m\n\u001b[0;32m   1009\u001b[0m                 \u001b[1;32mdel\u001b[0m \u001b[0mself\u001b[0m\u001b[1;33m.\u001b[0m\u001b[0m_adj\u001b[0m\u001b[1;33m[\u001b[0m\u001b[0mv\u001b[0m\u001b[1;33m]\u001b[0m\u001b[1;33m[\u001b[0m\u001b[0mu\u001b[0m\u001b[1;33m]\u001b[0m\u001b[1;33m\u001b[0m\u001b[0m\n\u001b[0;32m   1010\u001b[0m         \u001b[1;32mexcept\u001b[0m \u001b[0mKeyError\u001b[0m\u001b[1;33m:\u001b[0m\u001b[1;33m\u001b[0m\u001b[0m\n\u001b[1;32m-> 1011\u001b[1;33m             \u001b[1;32mraise\u001b[0m \u001b[0mNetworkXError\u001b[0m\u001b[1;33m(\u001b[0m\u001b[1;34m\"The edge %s-%s is not in the graph\"\u001b[0m \u001b[1;33m%\u001b[0m \u001b[1;33m(\u001b[0m\u001b[0mu\u001b[0m\u001b[1;33m,\u001b[0m \u001b[0mv\u001b[0m\u001b[1;33m)\u001b[0m\u001b[1;33m)\u001b[0m\u001b[1;33m\u001b[0m\u001b[0m\n\u001b[0m\u001b[0;32m   1012\u001b[0m \u001b[1;33m\u001b[0m\u001b[0m\n\u001b[0;32m   1013\u001b[0m     \u001b[1;32mdef\u001b[0m \u001b[0mremove_edges_from\u001b[0m\u001b[1;33m(\u001b[0m\u001b[0mself\u001b[0m\u001b[1;33m,\u001b[0m \u001b[0mebunch\u001b[0m\u001b[1;33m)\u001b[0m\u001b[1;33m:\u001b[0m\u001b[1;33m\u001b[0m\u001b[0m\n",
      "\u001b[1;31mNetworkXError\u001b[0m: The edge 1-3 is not in the graph"
     ]
    }
   ],
   "source": [
    "G.remove_edge(1,3)"
   ]
  },
  {
   "cell_type": "code",
   "execution_count": 38,
   "metadata": {
    "collapsed": true
   },
   "outputs": [],
   "source": [
    "G.add_edge(1,2)"
   ]
  },
  {
   "cell_type": "code",
   "execution_count": 39,
   "metadata": {},
   "outputs": [
    {
     "data": {
      "text/plain": [
       "AtlasView({2: {}})"
      ]
     },
     "execution_count": 39,
     "metadata": {},
     "output_type": "execute_result"
    }
   ],
   "source": [
    "G[1] # same as G.adj[1]"
   ]
  },
  {
   "cell_type": "code",
   "execution_count": 40,
   "metadata": {},
   "outputs": [
    {
     "data": {
      "text/plain": [
       "{}"
      ]
     },
     "execution_count": 40,
     "metadata": {},
     "output_type": "execute_result"
    }
   ],
   "source": [
    "G[1][2]"
   ]
  },
  {
   "cell_type": "code",
   "execution_count": 41,
   "metadata": {},
   "outputs": [
    {
     "data": {
      "text/plain": [
       "{}"
      ]
     },
     "execution_count": 41,
     "metadata": {},
     "output_type": "execute_result"
    }
   ],
   "source": [
    "G.edges[1,2]"
   ]
  },
  {
   "cell_type": "code",
   "execution_count": 67,
   "metadata": {},
   "outputs": [
    {
     "data": {
      "text/plain": [
       "[(1, 2), (1, 3)]"
      ]
     },
     "execution_count": 67,
     "metadata": {},
     "output_type": "execute_result"
    }
   ],
   "source": [
    "G.edges([1, 2])"
   ]
  },
  {
   "cell_type": "code",
   "execution_count": 42,
   "metadata": {},
   "outputs": [],
   "source": [
    "G.add_edge(1,3)\n",
    "G[1][3]['color'] = 'blue'\n",
    "G.edges[1,2]['color'] = 'red'"
   ]
  },
  {
   "cell_type": "code",
   "execution_count": 51,
   "metadata": {},
   "outputs": [
    {
     "data": {
      "text/plain": [
       "ItemsView(AdjacencyView({1: {2: {'weight': 0.125}, 3: {'weight': 0.75}}, 2: {1: {'weight': 0.125}, 4: {'weight': 1.2}}, 3: {1: {'weight': 0.75}, 4: {'weight': 0.375}}, 4: {2: {'weight': 1.2}, 3: {'weight': 0.375}}}))"
      ]
     },
     "execution_count": 51,
     "metadata": {},
     "output_type": "execute_result"
    }
   ],
   "source": [
    "FG = nx.Graph()\n",
    "FG.add_weighted_edges_from([(1,2,0.125), (1,3,0.75),(2,4,1.2),(3,4,0.375)])\n",
    "FG.adj.items()"
   ]
  },
  {
   "cell_type": "code",
   "execution_count": 52,
   "metadata": {},
   "outputs": [
    {
     "name": "stdout",
     "output_type": "stream",
     "text": [
      "1 2 0.125\n",
      "2 1 0.125\n",
      "3 4 0.375\n",
      "4 3 0.375\n"
     ]
    }
   ],
   "source": [
    "for n, nbrs in FG.adj.items():\n",
    "    for nbr, eattr in nbrs.items():\n",
    "        wt = eattr['weight']\n",
    "        if wt < 0.5 : \n",
    "            print(n, nbr, wt)          "
   ]
  },
  {
   "cell_type": "code",
   "execution_count": 53,
   "metadata": {},
   "outputs": [
    {
     "data": {
      "text/plain": [
       "EdgeDataView([(1, 2, 0.125), (1, 3, 0.75), (2, 4, 1.2), (3, 4, 0.375)])"
      ]
     },
     "execution_count": 53,
     "metadata": {},
     "output_type": "execute_result"
    }
   ],
   "source": [
    "FG.edges.data('weight')"
   ]
  },
  {
   "cell_type": "code",
   "execution_count": 55,
   "metadata": {},
   "outputs": [
    {
     "name": "stdout",
     "output_type": "stream",
     "text": [
      "1 2 0.125\n",
      "3 4 0.375\n"
     ]
    }
   ],
   "source": [
    "for (u,v,wt) in FG.edges.data('weight'):\n",
    "    if wt < 0.5 :\n",
    "        print(u,v,wt)"
   ]
  },
  {
   "cell_type": "markdown",
   "metadata": {},
   "source": [
    "중복(방향성) 제거"
   ]
  },
  {
   "cell_type": "markdown",
   "metadata": {},
   "source": [
    "## Adding attributes to graphs, nodes, and edges"
   ]
  },
  {
   "cell_type": "markdown",
   "metadata": {},
   "source": [
    "### Graph Attributes"
   ]
  },
  {
   "cell_type": "code",
   "execution_count": 58,
   "metadata": {
    "collapsed": true
   },
   "outputs": [],
   "source": [
    "G.clear()"
   ]
  },
  {
   "cell_type": "code",
   "execution_count": 59,
   "metadata": {},
   "outputs": [
    {
     "data": {
      "text/plain": [
       "{'day': 'Friday'}"
      ]
     },
     "execution_count": 59,
     "metadata": {},
     "output_type": "execute_result"
    }
   ],
   "source": [
    "G = nx.Graph(day = \"Friday\")\n",
    "G.graph"
   ]
  },
  {
   "cell_type": "code",
   "execution_count": 60,
   "metadata": {},
   "outputs": [
    {
     "data": {
      "text/plain": [
       "{'day': 'Monday'}"
      ]
     },
     "execution_count": 60,
     "metadata": {},
     "output_type": "execute_result"
    }
   ],
   "source": [
    "G.graph['day'] = 'Monday'\n",
    "G.graph"
   ]
  },
  {
   "cell_type": "markdown",
   "metadata": {},
   "source": [
    "### Node attributes"
   ]
  },
  {
   "cell_type": "code",
   "execution_count": 63,
   "metadata": {},
   "outputs": [
    {
     "data": {
      "text/plain": [
       "{'room': 714, 'time': '5pm'}"
      ]
     },
     "execution_count": 63,
     "metadata": {},
     "output_type": "execute_result"
    }
   ],
   "source": [
    "G.add_node(1, time='5pm')\n",
    "G.add_nodes_from([3,4], time='2pm')\n",
    "G.nodes[1]"
   ]
  },
  {
   "cell_type": "code",
   "execution_count": 64,
   "metadata": {},
   "outputs": [
    {
     "data": {
      "text/plain": [
       "NodeDataView({1: {'time': '5pm', 'room': 714}, 3: {'time': '2pm'}, 4: {'time': '2pm'}})"
      ]
     },
     "execution_count": 64,
     "metadata": {},
     "output_type": "execute_result"
    }
   ],
   "source": [
    "G.nodes[1]['room'] = 714\n",
    "G.nodes.data()"
   ]
  },
  {
   "cell_type": "markdown",
   "metadata": {},
   "source": [
    "### Edge Attribute"
   ]
  },
  {
   "cell_type": "code",
   "execution_count": 72,
   "metadata": {},
   "outputs": [
    {
     "data": {
      "text/plain": [
       "EdgeDataView([(1, 2, 4.7), (3, 4, 4.2), (3, 2, 8), (4, 5, None)])"
      ]
     },
     "execution_count": 72,
     "metadata": {},
     "output_type": "execute_result"
    }
   ],
   "source": [
    "G.add_edge(1,2,weight=4.7)\n",
    "G.add_edges_from([(3,4),(4,5)], color='red')\n",
    "G.add_edges_from([(1,2,{'color':'blue'}),(2,3,{'weight':8})])\n",
    "# G[1][2]['weight'] = 4.7\n",
    "G.edges[3,4]['weight'] = 4.2\n",
    "G.edges.data('weight')"
   ]
  },
  {
   "cell_type": "code",
   "execution_count": 73,
   "metadata": {},
   "outputs": [
    {
     "data": {
      "text/plain": [
       "EdgeDataView([(1, 2, 'blue'), (3, 4, 'red'), (3, 2, None), (4, 5, 'red')])"
      ]
     },
     "execution_count": 73,
     "metadata": {},
     "output_type": "execute_result"
    }
   ],
   "source": [
    "G.edges.data('color')"
   ]
  },
  {
   "cell_type": "markdown",
   "metadata": {},
   "source": [
    "## Drawing graphs"
   ]
  },
  {
   "cell_type": "code",
   "execution_count": 77,
   "metadata": {
    "collapsed": true
   },
   "outputs": [],
   "source": [
    "import matplotlib.pyplot as plt"
   ]
  },
  {
   "cell_type": "code",
   "execution_count": 92,
   "metadata": {},
   "outputs": [
    {
     "data": {
      "text/plain": [
       "<matplotlib.axes._subplots.AxesSubplot at 0x1a89c9440f0>"
      ]
     },
     "execution_count": 92,
     "metadata": {},
     "output_type": "execute_result"
    }
   ],
   "source": [
    "G = nx.petersen_graph()\n",
    "plt.subplot(121)"
   ]
  },
  {
   "cell_type": "code",
   "execution_count": 93,
   "metadata": {},
   "outputs": [
    {
     "data": {
      "text/plain": [
       "<matplotlib.axes._subplots.AxesSubplot at 0x1a89db212b0>"
      ]
     },
     "execution_count": 93,
     "metadata": {},
     "output_type": "execute_result"
    }
   ],
   "source": [
    "nx.draw(G, with_labels=True, font_weight='bold')\n",
    "plt.subplot(122)"
   ]
  },
  {
   "cell_type": "code",
   "execution_count": 94,
   "metadata": {
    "collapsed": true
   },
   "outputs": [],
   "source": [
    "nx.draw_shell(G, nlist=[range(5,10), range(5)], with_labels=True)"
   ]
  },
  {
   "cell_type": "code",
   "execution_count": 95,
   "metadata": {},
   "outputs": [
    {
     "data": {
      "image/png": "[encoded data removed]",
      "text/plain": [
       "<matplotlib.figure.Figure at 0x1a89c9fe4e0>"
      ]
     },
     "metadata": {},
     "output_type": "display_data"
    }
   ],
   "source": [
    "plt.show()"
   ]
  },
  {
   "cell_type": "code",
   "execution_count": 108,
   "metadata": {},
   "outputs": [
    {
     "name": "stdout",
     "output_type": "stream",
     "text": [
      "Node Degree\n",
      "20133331 0\n",
      "22222222 1\n",
      "33333333 1\n",
      "44444444 1\n",
      "55555555 1\n"
     ]
    },
    {
     "data": {
      "image/png": "[encoded data removed]",
      "text/plain": [
       "<matplotlib.figure.Figure at 0x1a89df44cf8>"
      ]
     },
     "metadata": {},
     "output_type": "display_data"
    }
   ],
   "source": [
    "import matplotlib.pyplot as plt\n",
    "import networkx as nx\n",
    "\n",
    "G = nx.Graph()\n",
    "G.add_nodes_from([20133331,22222222,33333333,44444444,55555555])\n",
    "G.add_edges_from([(3333333,44444444),(22222222,55555555)], color='red')\n",
    "print(\"Node Degree\")\n",
    "for v in G:\n",
    "    print('%s %s' % (v, G.degree(v)))\n",
    "\n",
    "nx.draw_circular(G, with_labels=True)\n",
    "plt.show()"
   ]
  },
  {
   "cell_type": "code",
   "execution_count": null,
   "metadata": {
    "collapsed": true
   },
   "outputs": [],
   "source": []
  }
 ],
 "metadata": {
  "kernelspec": {
   "display_name": "Python 3",
   "language": "python",
   "name": "python3"
  },
  "language_info": {
   "codemirror_mode": {
    "name": "ipython",
    "version": 3
   },
   "file_extension": ".py",
   "mimetype": "text/x-python",
   "name": "python",
   "nbconvert_exporter": "python",
   "pygments_lexer": "ipython3",
   "version": "3.6.1"
  }
 },
 "nbformat": 4,
 "nbformat_minor": 2
}
