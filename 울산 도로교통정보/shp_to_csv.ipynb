{
 "cells": [
  {
   "cell_type": "markdown",
   "metadata": {},
   "source": [
    "## From The standard Node-Link data to Network\n",
    "Data Source : http://nodelink.its.go.kr/data/data01.aspx\n",
    "\n",
    "The standard node-link files consist of two kinds of shape files(node, link).\n",
    "\n",
    "The _shapefile_ format is a popular geospatial vector data format for geographic information system (GIS) software. It is developed and regulated by Esri as a (mostly) open specification for data interoperability among Esri and other GIS software products. [wiki](https://en.wikipedia.org/wiki/Shapefile)\n",
    "\n",
    "To construct network, we should modifiy shpfiles."
   ]
  },
  {
   "cell_type": "code",
   "execution_count": 32,
   "metadata": {
    "collapsed": true
   },
   "outputs": [],
   "source": [
    "import shapefile #the pyshp module : Should install pyshp module.\n",
    "import pandas as pd\n",
    "from pyproj import Proj, transform # Should install pyproj module.\n",
    "import networkx as nx"
   ]
  },
  {
   "cell_type": "markdown",
   "metadata": {},
   "source": [
    "If you see an error message that `No module named modulename`, you should install module. To resolve this problem, we need to istall 'pyshp' and 'pyproj'. To do this, we use `pip`. We can install module easily by typing `pip install modulename`. To install `pyshp` and `pyproj`, we type the below codes in `terminal` or `anaconda prompt`.\n",
    "\n",
    "```\n",
    "pip install pyshp\n",
    "pip install pyproj\n",
    "```\n",
    "If there is a problem to install pyproj, then do the following; conda install -c anaconda pyproj "
   ]
  },
  {
   "cell_type": "markdown",
   "metadata": {},
   "source": [
    "## Construct dataframe by using shp file"
   ]
  },
  {
   "cell_type": "code",
   "execution_count": 33,
   "metadata": {},
   "outputs": [],
   "source": [
    "# read data (Copy all files from nodelink into nodelink folder: I made it.)\n",
    "# using old_data\n",
    "shp_path_node = './nodelink_150105/MOCT_NODE.shp'\n",
    "sf_node = shapefile.Reader(shp_path_node)\n",
    "shp_path_link = './nodelink_150105/MOCT_LINK.shp'\n",
    "sf_link = shapefile.Reader(shp_path_link)"
   ]
  },
  {
   "cell_type": "code",
   "execution_count": 34,
   "metadata": {
    "collapsed": true
   },
   "outputs": [],
   "source": [
    "# construct pandas dataframe\n",
    "\n",
    "#grab the shapefile's field names\n",
    "# node\n",
    "fields_node = [x[0] for x in sf_node.fields][1:]\n",
    "records_node = sf_node.records()\n",
    "shps = [s.points for s in sf_node.shapes()] # node has coordinate data.\n",
    "# link\n",
    "fields_link = [x[0] for x in sf_link.fields][1:]\n",
    "records_link = sf_link.records()\n",
    "\n",
    "\n",
    "#write the records into a dataframe\n",
    "# node\n",
    "node_dataframe = pd.DataFrame(columns=fields_node, data=records_node)\n",
    "#add the coordinate data to a column called \"coords\"\n",
    "node_dataframe = node_dataframe.assign(coords=shps)\n",
    "# link\n",
    "link_dataframe = pd.DataFrame(columns=fields_link, data=records_link)"
   ]
  },
  {
   "cell_type": "markdown",
   "metadata": {},
   "source": [
    "''' Show the files'''"
   ]
  },
  {
   "cell_type": "code",
   "execution_count": 35,
   "metadata": {},
   "outputs": [
    {
     "data": {
      "text/html": [
       "<div>\n",
       "<style scoped>\n",
       "    .dataframe tbody tr th:only-of-type {\n",
       "        vertical-align: middle;\n",
       "    }\n",
       "\n",
       "    .dataframe tbody tr th {\n",
       "        vertical-align: top;\n",
       "    }\n",
       "\n",
       "    .dataframe thead th {\n",
       "        text-align: right;\n",
       "    }\n",
       "</style>\n",
       "<table border=\"1\" class=\"dataframe\">\n",
       "  <thead>\n",
       "    <tr style=\"text-align: right;\">\n",
       "      <th></th>\n",
       "      <th>NODE_ID</th>\n",
       "      <th>NODE_TYPE</th>\n",
       "      <th>NODE_NAME</th>\n",
       "      <th>TURN_P</th>\n",
       "      <th>REMARK</th>\n",
       "      <th>USER_ID</th>\n",
       "      <th>WORKSTATE</th>\n",
       "      <th>DEPT_CODE</th>\n",
       "      <th>STNL_REG</th>\n",
       "      <th>TMPID</th>\n",
       "      <th>UPLOAD_ID</th>\n",
       "      <th>coords</th>\n",
       "    </tr>\n",
       "  </thead>\n",
       "  <tbody>\n",
       "    <tr>\n",
       "      <th>1</th>\n",
       "      <td>3330016500</td>\n",
       "      <td>104</td>\n",
       "      <td>b'\\xb9\\xfa\\xb1\\xb3\\xc5\\xcd\\xb3\\xce'</td>\n",
       "      <td>0</td>\n",
       "      <td></td>\n",
       "      <td>korea</td>\n",
       "      <td>5</td>\n",
       "      <td></td>\n",
       "      <td>333</td>\n",
       "      <td>OEXT3330016500</td>\n",
       "      <td></td>\n",
       "      <td>[[229535.21800000034, 250194.52040000074]]</td>\n",
       "    </tr>\n",
       "    <tr>\n",
       "      <th>2</th>\n",
       "      <td>3330015600</td>\n",
       "      <td>104</td>\n",
       "      <td>b'\\xb9\\xfa\\xb1\\xb3\\xc5\\xcd\\xb3\\xce'</td>\n",
       "      <td>0</td>\n",
       "      <td></td>\n",
       "      <td>korea</td>\n",
       "      <td>5</td>\n",
       "      <td></td>\n",
       "      <td>333</td>\n",
       "      <td>OEXT3330015600</td>\n",
       "      <td></td>\n",
       "      <td>[[229465.27020000014, 249416.52300000004]]</td>\n",
       "    </tr>\n",
       "    <tr>\n",
       "      <th>3</th>\n",
       "      <td>3330014900</td>\n",
       "      <td>101</td>\n",
       "      <td>b'\\xb9\\xfa\\xb1\\xb3\\xb1\\xb3\\xc2\\xf7\\xb7\\xce'</td>\n",
       "      <td>0</td>\n",
       "      <td></td>\n",
       "      <td>korea</td>\n",
       "      <td>5</td>\n",
       "      <td></td>\n",
       "      <td>333</td>\n",
       "      <td>OEXT3330014900</td>\n",
       "      <td></td>\n",
       "      <td>[[229455.64099999983, 249249.00129999965]]</td>\n",
       "    </tr>\n",
       "    <tr>\n",
       "      <th>4</th>\n",
       "      <td>3330014600</td>\n",
       "      <td>101</td>\n",
       "      <td>b'\\xb9\\xfa\\xb1\\xb3\\xb1\\xb3\\xc2\\xf7\\xb7\\xce'</td>\n",
       "      <td>0</td>\n",
       "      <td></td>\n",
       "      <td>korea</td>\n",
       "      <td>5</td>\n",
       "      <td></td>\n",
       "      <td>333</td>\n",
       "      <td>OEXT3330014600</td>\n",
       "      <td></td>\n",
       "      <td>[[229412.60429999977, 249169.92640000023]]</td>\n",
       "    </tr>\n",
       "  </tbody>\n",
       "</table>\n",
       "</div>"
      ],
      "text/plain": [
       "      NODE_ID NODE_TYPE                                    NODE_NAME TURN_P  \\\n",
       "1  3330016500       104          b'\\xb9\\xfa\\xb1\\xb3\\xc5\\xcd\\xb3\\xce'      0   \n",
       "2  3330015600       104          b'\\xb9\\xfa\\xb1\\xb3\\xc5\\xcd\\xb3\\xce'      0   \n",
       "3  3330014900       101  b'\\xb9\\xfa\\xb1\\xb3\\xb1\\xb3\\xc2\\xf7\\xb7\\xce'      0   \n",
       "4  3330014600       101  b'\\xb9\\xfa\\xb1\\xb3\\xb1\\xb3\\xc2\\xf7\\xb7\\xce'      0   \n",
       "\n",
       "  REMARK USER_ID WORKSTATE DEPT_CODE STNL_REG           TMPID UPLOAD_ID  \\\n",
       "1          korea         5                333  OEXT3330016500             \n",
       "2          korea         5                333  OEXT3330015600             \n",
       "3          korea         5                333  OEXT3330014900             \n",
       "4          korea         5                333  OEXT3330014600             \n",
       "\n",
       "                                       coords  \n",
       "1  [[229535.21800000034, 250194.52040000074]]  \n",
       "2  [[229465.27020000014, 249416.52300000004]]  \n",
       "3  [[229455.64099999983, 249249.00129999965]]  \n",
       "4  [[229412.60429999977, 249169.92640000023]]  "
      ]
     },
     "execution_count": 35,
     "metadata": {},
     "output_type": "execute_result"
    }
   ],
   "source": [
    "node_dataframe[1:5]# Show first 5 items."
   ]
  },
  {
   "cell_type": "markdown",
   "metadata": {},
   "source": [
    "Show the file with only if STNL_REG=333/ here \"333\" is assigned as a string"
   ]
  },
  {
   "cell_type": "code",
   "execution_count": 36,
   "metadata": {},
   "outputs": [
    {
     "data": {
      "text/html": [
       "<div>\n",
       "<style scoped>\n",
       "    .dataframe tbody tr th:only-of-type {\n",
       "        vertical-align: middle;\n",
       "    }\n",
       "\n",
       "    .dataframe tbody tr th {\n",
       "        vertical-align: top;\n",
       "    }\n",
       "\n",
       "    .dataframe thead th {\n",
       "        text-align: right;\n",
       "    }\n",
       "</style>\n",
       "<table border=\"1\" class=\"dataframe\">\n",
       "  <thead>\n",
       "    <tr style=\"text-align: right;\">\n",
       "      <th></th>\n",
       "      <th>NODE_ID</th>\n",
       "      <th>NODE_TYPE</th>\n",
       "      <th>NODE_NAME</th>\n",
       "      <th>TURN_P</th>\n",
       "      <th>REMARK</th>\n",
       "      <th>USER_ID</th>\n",
       "      <th>WORKSTATE</th>\n",
       "      <th>DEPT_CODE</th>\n",
       "      <th>STNL_REG</th>\n",
       "      <th>TMPID</th>\n",
       "      <th>UPLOAD_ID</th>\n",
       "      <th>coords</th>\n",
       "    </tr>\n",
       "  </thead>\n",
       "  <tbody>\n",
       "    <tr>\n",
       "      <th>1</th>\n",
       "      <td>3330016500</td>\n",
       "      <td>104</td>\n",
       "      <td>b'\\xb9\\xfa\\xb1\\xb3\\xc5\\xcd\\xb3\\xce'</td>\n",
       "      <td>0</td>\n",
       "      <td></td>\n",
       "      <td>korea</td>\n",
       "      <td>5</td>\n",
       "      <td></td>\n",
       "      <td>333</td>\n",
       "      <td>OEXT3330016500</td>\n",
       "      <td></td>\n",
       "      <td>[[229535.21800000034, 250194.52040000074]]</td>\n",
       "    </tr>\n",
       "    <tr>\n",
       "      <th>2</th>\n",
       "      <td>3330015600</td>\n",
       "      <td>104</td>\n",
       "      <td>b'\\xb9\\xfa\\xb1\\xb3\\xc5\\xcd\\xb3\\xce'</td>\n",
       "      <td>0</td>\n",
       "      <td></td>\n",
       "      <td>korea</td>\n",
       "      <td>5</td>\n",
       "      <td></td>\n",
       "      <td>333</td>\n",
       "      <td>OEXT3330015600</td>\n",
       "      <td></td>\n",
       "      <td>[[229465.27020000014, 249416.52300000004]]</td>\n",
       "    </tr>\n",
       "    <tr>\n",
       "      <th>3</th>\n",
       "      <td>3330014900</td>\n",
       "      <td>101</td>\n",
       "      <td>b'\\xb9\\xfa\\xb1\\xb3\\xb1\\xb3\\xc2\\xf7\\xb7\\xce'</td>\n",
       "      <td>0</td>\n",
       "      <td></td>\n",
       "      <td>korea</td>\n",
       "      <td>5</td>\n",
       "      <td></td>\n",
       "      <td>333</td>\n",
       "      <td>OEXT3330014900</td>\n",
       "      <td></td>\n",
       "      <td>[[229455.64099999983, 249249.00129999965]]</td>\n",
       "    </tr>\n",
       "    <tr>\n",
       "      <th>4</th>\n",
       "      <td>3330014600</td>\n",
       "      <td>101</td>\n",
       "      <td>b'\\xb9\\xfa\\xb1\\xb3\\xb1\\xb3\\xc2\\xf7\\xb7\\xce'</td>\n",
       "      <td>0</td>\n",
       "      <td></td>\n",
       "      <td>korea</td>\n",
       "      <td>5</td>\n",
       "      <td></td>\n",
       "      <td>333</td>\n",
       "      <td>OEXT3330014600</td>\n",
       "      <td></td>\n",
       "      <td>[[229412.60429999977, 249169.92640000023]]</td>\n",
       "    </tr>\n",
       "  </tbody>\n",
       "</table>\n",
       "</div>"
      ],
      "text/plain": [
       "      NODE_ID NODE_TYPE                                    NODE_NAME TURN_P  \\\n",
       "1  3330016500       104          b'\\xb9\\xfa\\xb1\\xb3\\xc5\\xcd\\xb3\\xce'      0   \n",
       "2  3330015600       104          b'\\xb9\\xfa\\xb1\\xb3\\xc5\\xcd\\xb3\\xce'      0   \n",
       "3  3330014900       101  b'\\xb9\\xfa\\xb1\\xb3\\xb1\\xb3\\xc2\\xf7\\xb7\\xce'      0   \n",
       "4  3330014600       101  b'\\xb9\\xfa\\xb1\\xb3\\xb1\\xb3\\xc2\\xf7\\xb7\\xce'      0   \n",
       "\n",
       "  REMARK USER_ID WORKSTATE DEPT_CODE STNL_REG           TMPID UPLOAD_ID  \\\n",
       "1          korea         5                333  OEXT3330016500             \n",
       "2          korea         5                333  OEXT3330015600             \n",
       "3          korea         5                333  OEXT3330014900             \n",
       "4          korea         5                333  OEXT3330014600             \n",
       "\n",
       "                                       coords  \n",
       "1  [[229535.21800000034, 250194.52040000074]]  \n",
       "2  [[229465.27020000014, 249416.52300000004]]  \n",
       "3  [[229455.64099999983, 249249.00129999965]]  \n",
       "4  [[229412.60429999977, 249169.92640000023]]  "
      ]
     },
     "execution_count": 36,
     "metadata": {},
     "output_type": "execute_result"
    }
   ],
   "source": [
    "node_dataframe[node_dataframe['STNL_REG'] == str(333)][1:5]"
   ]
  },
  {
   "cell_type": "markdown",
   "metadata": {},
   "source": [
    "We observe that **NODE_NAME**, **ROAD_NAME** are not string and **coords** is strange coordinate system. We will fix later.\n",
    "\n",
    "Now, we restirct data for some city before we fix."
   ]
  },
  {
   "cell_type": "markdown",
   "metadata": {},
   "source": [
    "<img src=\"https://trello-attachments.s3.amazonaws.com/59103d52b56a24582f00dc97/5ac8b77017464fe59d4b728e/6388818a77f59b02e011068d58dc8145/image.png\"></img>"
   ]
  },
  {
   "attachments": {
    "image.png": {
     "image/png": "[encoded data removed]"
    }
   },
   "cell_type": "markdown",
   "metadata": {},
   "source": [
    "![image.png](attachment:image.png)"
   ]
  },
  {
   "cell_type": "markdown",
   "metadata": {},
   "source": [
    "http://nodelink.its.go.kr/intro/intro06_05.aspx\n",
    "Please find more info from nodelink site\n",
    "\n",
    "**광역/특별시의 권역코드 (STNL_REG)**\n",
    "- 서울 : 100 ~ 124\n",
    "- 부산 : 130 ~ 145\n",
    "- 대구 : 150 ~ 157\n",
    "- 인천 : 161 ~ 170\n",
    "- 광주 : 175 ~ 179\n",
    "- 대전 : 183 ~ 187\n",
    "- 울산 : 192 ~ 196"
   ]
  },
  {
   "cell_type": "markdown",
   "metadata": {},
   "source": [
    "**In this code, we choose Incheon.**"
   ]
  },
  {
   "cell_type": "code",
   "execution_count": 37,
   "metadata": {},
   "outputs": [
    {
     "data": {
      "text/plain": [
       "NODE_ID      object\n",
       "NODE_TYPE    object\n",
       "NODE_NAME    object\n",
       "TURN_P       object\n",
       "REMARK       object\n",
       "USER_ID      object\n",
       "WORKSTATE    object\n",
       "DEPT_CODE    object\n",
       "STNL_REG     object\n",
       "TMPID        object\n",
       "UPLOAD_ID    object\n",
       "coords       object\n",
       "dtype: object"
      ]
     },
     "execution_count": 37,
     "metadata": {},
     "output_type": "execute_result"
    }
   ],
   "source": [
    "node_dataframe.dtypes # Check data types of columns."
   ]
  },
  {
   "cell_type": "code",
   "execution_count": 38,
   "metadata": {
    "collapsed": true
   },
   "outputs": [],
   "source": [
    "# Data restriction\n",
    "range_STNL_REG=range(161,170) # STNL_REG for Incheon\n",
    "df_node = pd.DataFrame()\n",
    "df_link = pd.DataFrame()\n",
    "for ii in range_STNL_REG:\n",
    "    res_node = node_dataframe[node_dataframe['STNL_REG'] == str(ii) ] # STNL_REG is not int.\n",
    "    res_link = link_dataframe[link_dataframe['STNL_REG'] == str(ii) ]\n",
    "    df_node = pd.concat([df_node,res_node],ignore_index=True) # marge data\n",
    "    df_link = pd.concat([df_link,res_link],ignore_index=True)"
   ]
  },
  {
   "cell_type": "code",
   "execution_count": 39,
   "metadata": {
    "collapsed": true
   },
   "outputs": [],
   "source": [
    "# Change node name in korean \n",
    "for idx,row in df_node.iterrows():\n",
    "    if type(row['NODE_NAME']) == bytes :\n",
    "        # row['NODE_NAME'] = row['NODE_NAME'].decode('euc_kr')\n",
    "        row['NODE_NAME'] = row['NODE_NAME'].decode('cp949')"
   ]
  },
  {
   "cell_type": "markdown",
   "metadata": {},
   "source": [
    "In nodelink data, all positions in nodes are assigned based on **korea 2000 좌표계**. Their positions are changed based on \n",
    "**wgs84 (위도/경도)** by using Proj package."
   ]
  },
  {
   "cell_type": "code",
   "execution_count": 40,
   "metadata": {
    "collapsed": true
   },
   "outputs": [],
   "source": [
    "# Change coordinate system\n",
    "# korea 2000/central belt 2010 (epsg:5186) to wgs84(epsg:4326)\n",
    "inProj = Proj(init = 'epsg:5186')\n",
    "outProj= Proj(init = 'epsg:4326')\n",
    "latitude = []\n",
    "longitude= []\n",
    "for idx,row in df_node.iterrows():\n",
    "    x,y  = row.coords[0][0],row.coords[0][1]  # korea 2000 좌표계\n",
    "    nx,ny = transform(inProj,outProj,x,y)     # 새로운 좌표계    \n",
    "    latitude.append(ny)\n",
    "    longitude.append(nx)\n",
    "df_node['latitude'] = latitude\n",
    "df_node['longitude']= longitude\n",
    "del df_node['coords'] # delete coords"
   ]
  },
  {
   "cell_type": "markdown",
   "metadata": {},
   "source": [
    "In order to use Gephi, it is essential to have two files node and line file. Also each one has a special properties. That is, node name has to be indexed as an **ID** and link has two names **Source** and **Target**. File in below show that how to change the given form to gephi-type file form."
   ]
  },
  {
   "cell_type": "code",
   "execution_count": 41,
   "metadata": {
    "collapsed": true
   },
   "outputs": [],
   "source": [
    "# Change column name to draw network in Gephi\n",
    "df_node.rename(columns={'NODE_ID':'Id'},inplace = True)\n",
    "df_link.rename(columns={'F_NODE':'Source','T_NODE':'Target'},inplace = True)"
   ]
  },
  {
   "cell_type": "code",
   "execution_count": 42,
   "metadata": {},
   "outputs": [
    {
     "name": "stdout",
     "output_type": "stream",
     "text": [
      "2200\n"
     ]
    }
   ],
   "source": [
    "print(len(df_node))"
   ]
  },
  {
   "cell_type": "code",
   "execution_count": 43,
   "metadata": {},
   "outputs": [
    {
     "data": {
      "text/html": [
       "<div>\n",
       "<style scoped>\n",
       "    .dataframe tbody tr th:only-of-type {\n",
       "        vertical-align: middle;\n",
       "    }\n",
       "\n",
       "    .dataframe tbody tr th {\n",
       "        vertical-align: top;\n",
       "    }\n",
       "\n",
       "    .dataframe thead th {\n",
       "        text-align: right;\n",
       "    }\n",
       "</style>\n",
       "<table border=\"1\" class=\"dataframe\">\n",
       "  <thead>\n",
       "    <tr style=\"text-align: right;\">\n",
       "      <th></th>\n",
       "      <th>Id</th>\n",
       "      <th>NODE_TYPE</th>\n",
       "      <th>NODE_NAME</th>\n",
       "      <th>TURN_P</th>\n",
       "      <th>REMARK</th>\n",
       "      <th>USER_ID</th>\n",
       "      <th>WORKSTATE</th>\n",
       "      <th>DEPT_CODE</th>\n",
       "      <th>STNL_REG</th>\n",
       "      <th>TMPID</th>\n",
       "      <th>UPLOAD_ID</th>\n",
       "      <th>latitude</th>\n",
       "      <th>longitude</th>\n",
       "    </tr>\n",
       "  </thead>\n",
       "  <tbody>\n",
       "    <tr>\n",
       "      <th>0</th>\n",
       "      <td>1610003100</td>\n",
       "      <td>104</td>\n",
       "      <td>영종대교 서단(상하부도로 합류)</td>\n",
       "      <td>0</td>\n",
       "      <td></td>\n",
       "      <td>seoul</td>\n",
       "      <td>5</td>\n",
       "      <td>00000</td>\n",
       "      <td>161</td>\n",
       "      <td>999</td>\n",
       "      <td></td>\n",
       "      <td>37.535279</td>\n",
       "      <td>126.560037</td>\n",
       "    </tr>\n",
       "    <tr>\n",
       "      <th>1</th>\n",
       "      <td>1610003000</td>\n",
       "      <td>108</td>\n",
       "      <td>공항입구IC(본선)</td>\n",
       "      <td>0</td>\n",
       "      <td></td>\n",
       "      <td>seoul</td>\n",
       "      <td>5</td>\n",
       "      <td>00000</td>\n",
       "      <td>161</td>\n",
       "      <td>999</td>\n",
       "      <td></td>\n",
       "      <td>37.507276</td>\n",
       "      <td>126.512479</td>\n",
       "    </tr>\n",
       "    <tr>\n",
       "      <th>2</th>\n",
       "      <td>1610002900</td>\n",
       "      <td>108</td>\n",
       "      <td>공항입구IC 서측(연결로)</td>\n",
       "      <td>0</td>\n",
       "      <td></td>\n",
       "      <td>icsi</td>\n",
       "      <td>5</td>\n",
       "      <td>00000</td>\n",
       "      <td>161</td>\n",
       "      <td>999</td>\n",
       "      <td></td>\n",
       "      <td>37.506817</td>\n",
       "      <td>126.503792</td>\n",
       "    </tr>\n",
       "    <tr>\n",
       "      <th>3</th>\n",
       "      <td>1610002400</td>\n",
       "      <td>104</td>\n",
       "      <td>삼목지하차도</td>\n",
       "      <td>0</td>\n",
       "      <td></td>\n",
       "      <td>icsi</td>\n",
       "      <td>5</td>\n",
       "      <td>00000</td>\n",
       "      <td>161</td>\n",
       "      <td>999</td>\n",
       "      <td></td>\n",
       "      <td>37.491616</td>\n",
       "      <td>126.481301</td>\n",
       "    </tr>\n",
       "    <tr>\n",
       "      <th>4</th>\n",
       "      <td>1610002300</td>\n",
       "      <td>108</td>\n",
       "      <td>공항신도시IC 북측(본선 서울방</td>\n",
       "      <td>0</td>\n",
       "      <td></td>\n",
       "      <td>seoul</td>\n",
       "      <td>5</td>\n",
       "      <td>00000</td>\n",
       "      <td>161</td>\n",
       "      <td>999</td>\n",
       "      <td></td>\n",
       "      <td>37.489293</td>\n",
       "      <td>126.491712</td>\n",
       "    </tr>\n",
       "  </tbody>\n",
       "</table>\n",
       "</div>"
      ],
      "text/plain": [
       "           Id NODE_TYPE          NODE_NAME TURN_P REMARK USER_ID WORKSTATE  \\\n",
       "0  1610003100       104  영종대교 서단(상하부도로 합류)      0          seoul         5   \n",
       "1  1610003000       108         공항입구IC(본선)      0          seoul         5   \n",
       "2  1610002900       108     공항입구IC 서측(연결로)      0           icsi         5   \n",
       "3  1610002400       104             삼목지하차도      0           icsi         5   \n",
       "4  1610002300       108  공항신도시IC 북측(본선 서울방      0          seoul         5   \n",
       "\n",
       "  DEPT_CODE STNL_REG TMPID UPLOAD_ID   latitude   longitude  \n",
       "0     00000      161   999            37.535279  126.560037  \n",
       "1     00000      161   999            37.507276  126.512479  \n",
       "2     00000      161   999            37.506817  126.503792  \n",
       "3     00000      161   999            37.491616  126.481301  \n",
       "4     00000      161   999            37.489293  126.491712  "
      ]
     },
     "execution_count": 43,
     "metadata": {},
     "output_type": "execute_result"
    }
   ],
   "source": [
    "df_node.head()"
   ]
  },
  {
   "cell_type": "code",
   "execution_count": 44,
   "metadata": {},
   "outputs": [
    {
     "data": {
      "text/html": [
       "<div>\n",
       "<style scoped>\n",
       "    .dataframe tbody tr th:only-of-type {\n",
       "        vertical-align: middle;\n",
       "    }\n",
       "\n",
       "    .dataframe tbody tr th {\n",
       "        vertical-align: top;\n",
       "    }\n",
       "\n",
       "    .dataframe thead th {\n",
       "        text-align: right;\n",
       "    }\n",
       "</style>\n",
       "<table border=\"1\" class=\"dataframe\">\n",
       "  <thead>\n",
       "    <tr style=\"text-align: right;\">\n",
       "      <th></th>\n",
       "      <th>LINK_ID</th>\n",
       "      <th>Source</th>\n",
       "      <th>Target</th>\n",
       "      <th>ROAD_USE</th>\n",
       "      <th>LANES</th>\n",
       "      <th>ROAD_RANK</th>\n",
       "      <th>ROAD_NAME</th>\n",
       "      <th>MULTI_LINK</th>\n",
       "      <th>CONNECT</th>\n",
       "      <th>MAX_SPD</th>\n",
       "      <th>...</th>\n",
       "      <th>WORKSTATE</th>\n",
       "      <th>DEPT_CODE</th>\n",
       "      <th>STNL_REG</th>\n",
       "      <th>ROAD_TYPE</th>\n",
       "      <th>ROAD_NO</th>\n",
       "      <th>TMPID</th>\n",
       "      <th>UPLOAD_ID</th>\n",
       "      <th>SOSFNODEID</th>\n",
       "      <th>SOSTNODEID</th>\n",
       "      <th>SHAPE_STLe</th>\n",
       "    </tr>\n",
       "  </thead>\n",
       "  <tbody>\n",
       "    <tr>\n",
       "      <th>1</th>\n",
       "      <td>1610006300</td>\n",
       "      <td>1610003100</td>\n",
       "      <td>1610003000</td>\n",
       "      <td>0</td>\n",
       "      <td>0.0</td>\n",
       "      <td>101</td>\n",
       "      <td>b'\\xc0\\xce\\xc3\\xb5\\xb1\\xb9\\xc1\\xa6\\xb0\\xf8\\xc7...</td>\n",
       "      <td>0</td>\n",
       "      <td>000</td>\n",
       "      <td>0.0</td>\n",
       "      <td>...</td>\n",
       "      <td>5</td>\n",
       "      <td>00000</td>\n",
       "      <td>161</td>\n",
       "      <td>003</td>\n",
       "      <td>130</td>\n",
       "      <td></td>\n",
       "      <td></td>\n",
       "      <td>OEXT1610003100</td>\n",
       "      <td>OEXT1610003000</td>\n",
       "      <td>5288.633501</td>\n",
       "    </tr>\n",
       "    <tr>\n",
       "      <th>2</th>\n",
       "      <td>1610006500</td>\n",
       "      <td>1680003800</td>\n",
       "      <td>1610003100</td>\n",
       "      <td>0</td>\n",
       "      <td>0.0</td>\n",
       "      <td>101</td>\n",
       "      <td>b'\\xc0\\xce\\xc3\\xb5\\xb1\\xb9\\xc1\\xa6\\xb0\\xf8\\xc7...</td>\n",
       "      <td>0</td>\n",
       "      <td>101</td>\n",
       "      <td>0.0</td>\n",
       "      <td>...</td>\n",
       "      <td>5</td>\n",
       "      <td>00000</td>\n",
       "      <td>161</td>\n",
       "      <td>003</td>\n",
       "      <td>130</td>\n",
       "      <td></td>\n",
       "      <td></td>\n",
       "      <td>OEXT1680003800</td>\n",
       "      <td>OEXT1610003100</td>\n",
       "      <td>4230.756170</td>\n",
       "    </tr>\n",
       "    <tr>\n",
       "      <th>3</th>\n",
       "      <td>1610001500</td>\n",
       "      <td>1610000800</td>\n",
       "      <td>1610000700</td>\n",
       "      <td>0</td>\n",
       "      <td>0.0</td>\n",
       "      <td>101</td>\n",
       "      <td>b'\\xc0\\xce\\xc3\\xb5\\xb1\\xb9\\xc1\\xa6\\xb0\\xf8\\xc7...</td>\n",
       "      <td>0</td>\n",
       "      <td>101</td>\n",
       "      <td>0.0</td>\n",
       "      <td>...</td>\n",
       "      <td>5</td>\n",
       "      <td>00000</td>\n",
       "      <td>161</td>\n",
       "      <td>000</td>\n",
       "      <td>130</td>\n",
       "      <td></td>\n",
       "      <td></td>\n",
       "      <td>OEXT1610000800</td>\n",
       "      <td>OEXT1610000700</td>\n",
       "      <td>637.201873</td>\n",
       "    </tr>\n",
       "    <tr>\n",
       "      <th>4</th>\n",
       "      <td>1610027100</td>\n",
       "      <td>1610008600</td>\n",
       "      <td>1630014900</td>\n",
       "      <td>0</td>\n",
       "      <td>0.0</td>\n",
       "      <td>104</td>\n",
       "      <td>b'\\xc2\\xfc\\xbf\\xdc\\xc0\\xfc\\xb1\\xe6'</td>\n",
       "      <td>0</td>\n",
       "      <td>000</td>\n",
       "      <td>0.0</td>\n",
       "      <td>...</td>\n",
       "      <td>5</td>\n",
       "      <td>00000</td>\n",
       "      <td>161</td>\n",
       "      <td>000</td>\n",
       "      <td>0</td>\n",
       "      <td></td>\n",
       "      <td></td>\n",
       "      <td>OEXT1610008600</td>\n",
       "      <td>OEXT1630014900</td>\n",
       "      <td>399.876881</td>\n",
       "    </tr>\n",
       "  </tbody>\n",
       "</table>\n",
       "<p>4 rows × 25 columns</p>\n",
       "</div>"
      ],
      "text/plain": [
       "      LINK_ID      Source      Target ROAD_USE  LANES ROAD_RANK  \\\n",
       "1  1610006300  1610003100  1610003000        0    0.0       101   \n",
       "2  1610006500  1680003800  1610003100        0    0.0       101   \n",
       "3  1610001500  1610000800  1610000700        0    0.0       101   \n",
       "4  1610027100  1610008600  1630014900        0    0.0       104   \n",
       "\n",
       "                                           ROAD_NAME MULTI_LINK CONNECT  \\\n",
       "1  b'\\xc0\\xce\\xc3\\xb5\\xb1\\xb9\\xc1\\xa6\\xb0\\xf8\\xc7...          0     000   \n",
       "2  b'\\xc0\\xce\\xc3\\xb5\\xb1\\xb9\\xc1\\xa6\\xb0\\xf8\\xc7...          0     101   \n",
       "3  b'\\xc0\\xce\\xc3\\xb5\\xb1\\xb9\\xc1\\xa6\\xb0\\xf8\\xc7...          0     101   \n",
       "4                b'\\xc2\\xfc\\xbf\\xdc\\xc0\\xfc\\xb1\\xe6'          0     000   \n",
       "\n",
       "   MAX_SPD     ...      WORKSTATE  DEPT_CODE  STNL_REG ROAD_TYPE ROAD_NO  \\\n",
       "1      0.0     ...              5      00000       161       003     130   \n",
       "2      0.0     ...              5      00000       161       003     130   \n",
       "3      0.0     ...              5      00000       161       000     130   \n",
       "4      0.0     ...              5      00000       161       000       0   \n",
       "\n",
       "  TMPID UPLOAD_ID      SOSFNODEID      SOSTNODEID   SHAPE_STLe  \n",
       "1                  OEXT1610003100  OEXT1610003000  5288.633501  \n",
       "2                  OEXT1680003800  OEXT1610003100  4230.756170  \n",
       "3                  OEXT1610000800  OEXT1610000700   637.201873  \n",
       "4                  OEXT1610008600  OEXT1630014900   399.876881  \n",
       "\n",
       "[4 rows x 25 columns]"
      ]
     },
     "execution_count": 44,
     "metadata": {},
     "output_type": "execute_result"
    }
   ],
   "source": [
    "df_link[1:5]"
   ]
  },
  {
   "cell_type": "markdown",
   "metadata": {},
   "source": [
    "# You can save Data as csv formet."
   ]
  },
  {
   "cell_type": "code",
   "execution_count": 45,
   "metadata": {
    "collapsed": true
   },
   "outputs": [],
   "source": [
    "df_node.to_csv('Incheon_nodes_150105.csv') # node list\n",
    "df_link.to_csv('Incheon_links_150105.csv') # edge(=link) list"
   ]
  },
  {
   "cell_type": "code",
   "execution_count": 46,
   "metadata": {},
   "outputs": [
    {
     "data": {
      "text/plain": [
       "Index(['LINK_ID', 'Source', 'Target', 'ROAD_USE', 'LANES', 'ROAD_RANK',\n",
       "       'ROAD_NAME', 'MULTI_LINK', 'CONNECT', 'MAX_SPD', 'REST_VEH', 'REST_W',\n",
       "       'REST_H', 'REMARK', 'USER_ID', 'WORKSTATE', 'DEPT_CODE', 'STNL_REG',\n",
       "       'ROAD_TYPE', 'ROAD_NO', 'TMPID', 'UPLOAD_ID', 'SOSFNODEID',\n",
       "       'SOSTNODEID', 'SHAPE_STLe'],\n",
       "      dtype='object')"
      ]
     },
     "execution_count": 46,
     "metadata": {},
     "output_type": "execute_result"
    }
   ],
   "source": [
    "df_link.columns"
   ]
  },
  {
   "cell_type": "code",
   "execution_count": null,
   "metadata": {
    "collapsed": true
   },
   "outputs": [],
   "source": []
  },
  {
   "cell_type": "code",
   "execution_count": null,
   "metadata": {
    "collapsed": true
   },
   "outputs": [],
   "source": []
  }
 ],
 "metadata": {
  "kernelspec": {
   "display_name": "Python 3",
   "language": "python",
   "name": "python3"
  },
  "language_info": {
   "codemirror_mode": {
    "name": "ipython",
    "version": 3
   },
   "file_extension": ".py",
   "mimetype": "text/x-python",
   "name": "python",
   "nbconvert_exporter": "python",
   "pygments_lexer": "ipython3",
   "version": "3.6.1"
  }
 },
 "nbformat": 4,
 "nbformat_minor": 2
}
